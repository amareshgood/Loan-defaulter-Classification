{
 "cells": [
  {
   "cell_type": "markdown",
   "metadata": {},
   "source": [
    "**Loan Default Classification**"
   ]
  },
  {
   "cell_type": "code",
   "execution_count": 1,
   "metadata": {
    "id": "4yJaP1xOudfd"
   },
   "outputs": [],
   "source": [
    "import pandas as pd\n",
    "import io\n",
    "import numpy as np                     # For mathematical calculations \n",
    "import seaborn as sns                  # For data visualization \n",
    "import matplotlib.pyplot as plt        # For plotting graphs\n",
    "import joblib\n",
    "%matplotlib inline \n",
    "from scipy.special import boxcox1p\n",
    "import warnings\n",
    "warnings.filterwarnings('ignore') "
   ]
  },
  {
   "cell_type": "code",
   "execution_count": 2,
   "metadata": {},
   "outputs": [],
   "source": [
    "#loan_default train dataset is downloaded into dataframe\n",
    "train=pd.read_csv(\"H:/Amar/ML_Artivatic_dataset/train_indessa.csv\") "
   ]
  },
  {
   "cell_type": "code",
   "execution_count": 3,
   "metadata": {},
   "outputs": [],
   "source": [
    "#loan_default test dataset is downloaded into dataframe\n",
    "test=pd.read_csv(\"H:/Amar/ML_Artivatic_dataset/test_indessa.csv\")"
   ]
  },
  {
   "cell_type": "code",
   "execution_count": 4,
   "metadata": {
    "colab": {
     "base_uri": "https://localhost:8080/",
     "height": 209
    },
    "id": "eitnrpGIghrT",
    "outputId": "fecd7821-2e86-472a-ce5b-fb853ae22043"
   },
   "outputs": [],
   "source": [
    "#data sets copied since the original copy may need in the later steps.\n",
    "train_original=train.copy() \n",
    "test_original=test.copy()"
   ]
  },
  {
   "cell_type": "code",
   "execution_count": 5,
   "metadata": {
    "id": "SM7Oc8wVImH1"
   },
   "outputs": [
    {
     "data": {
      "text/html": [
       "<div>\n",
       "<style scoped>\n",
       "    .dataframe tbody tr th:only-of-type {\n",
       "        vertical-align: middle;\n",
       "    }\n",
       "\n",
       "    .dataframe tbody tr th {\n",
       "        vertical-align: top;\n",
       "    }\n",
       "\n",
       "    .dataframe thead th {\n",
       "        text-align: right;\n",
       "    }\n",
       "</style>\n",
       "<table border=\"1\" class=\"dataframe\">\n",
       "  <thead>\n",
       "    <tr style=\"text-align: right;\">\n",
       "      <th></th>\n",
       "      <th>member_id</th>\n",
       "      <th>loan_amnt</th>\n",
       "      <th>funded_amnt</th>\n",
       "      <th>funded_amnt_inv</th>\n",
       "      <th>term</th>\n",
       "      <th>batch_enrolled</th>\n",
       "      <th>int_rate</th>\n",
       "      <th>grade</th>\n",
       "      <th>sub_grade</th>\n",
       "      <th>emp_title</th>\n",
       "      <th>...</th>\n",
       "      <th>collections_12_mths_ex_med</th>\n",
       "      <th>mths_since_last_major_derog</th>\n",
       "      <th>application_type</th>\n",
       "      <th>verification_status_joint</th>\n",
       "      <th>last_week_pay</th>\n",
       "      <th>acc_now_delinq</th>\n",
       "      <th>tot_coll_amt</th>\n",
       "      <th>tot_cur_bal</th>\n",
       "      <th>total_rev_hi_lim</th>\n",
       "      <th>loan_status</th>\n",
       "    </tr>\n",
       "  </thead>\n",
       "  <tbody>\n",
       "    <tr>\n",
       "      <th>0</th>\n",
       "      <td>58189336</td>\n",
       "      <td>14350</td>\n",
       "      <td>14350</td>\n",
       "      <td>14350.0</td>\n",
       "      <td>36 months</td>\n",
       "      <td></td>\n",
       "      <td>19.19</td>\n",
       "      <td>E</td>\n",
       "      <td>E3</td>\n",
       "      <td>clerk</td>\n",
       "      <td>...</td>\n",
       "      <td>0.0</td>\n",
       "      <td>74.0</td>\n",
       "      <td>INDIVIDUAL</td>\n",
       "      <td>NaN</td>\n",
       "      <td>26th week</td>\n",
       "      <td>0.0</td>\n",
       "      <td>0.0</td>\n",
       "      <td>28699.0</td>\n",
       "      <td>30800.0</td>\n",
       "      <td>0</td>\n",
       "    </tr>\n",
       "    <tr>\n",
       "      <th>1</th>\n",
       "      <td>70011223</td>\n",
       "      <td>4800</td>\n",
       "      <td>4800</td>\n",
       "      <td>4800.0</td>\n",
       "      <td>36 months</td>\n",
       "      <td>BAT1586599</td>\n",
       "      <td>10.99</td>\n",
       "      <td>B</td>\n",
       "      <td>B4</td>\n",
       "      <td>Human Resources Specialist</td>\n",
       "      <td>...</td>\n",
       "      <td>0.0</td>\n",
       "      <td>NaN</td>\n",
       "      <td>INDIVIDUAL</td>\n",
       "      <td>NaN</td>\n",
       "      <td>9th week</td>\n",
       "      <td>0.0</td>\n",
       "      <td>0.0</td>\n",
       "      <td>9974.0</td>\n",
       "      <td>32900.0</td>\n",
       "      <td>0</td>\n",
       "    </tr>\n",
       "    <tr>\n",
       "      <th>2</th>\n",
       "      <td>70255675</td>\n",
       "      <td>10000</td>\n",
       "      <td>10000</td>\n",
       "      <td>10000.0</td>\n",
       "      <td>36 months</td>\n",
       "      <td>BAT1586599</td>\n",
       "      <td>7.26</td>\n",
       "      <td>A</td>\n",
       "      <td>A4</td>\n",
       "      <td>Driver</td>\n",
       "      <td>...</td>\n",
       "      <td>0.0</td>\n",
       "      <td>NaN</td>\n",
       "      <td>INDIVIDUAL</td>\n",
       "      <td>NaN</td>\n",
       "      <td>9th week</td>\n",
       "      <td>0.0</td>\n",
       "      <td>65.0</td>\n",
       "      <td>38295.0</td>\n",
       "      <td>34900.0</td>\n",
       "      <td>0</td>\n",
       "    </tr>\n",
       "    <tr>\n",
       "      <th>3</th>\n",
       "      <td>1893936</td>\n",
       "      <td>15000</td>\n",
       "      <td>15000</td>\n",
       "      <td>15000.0</td>\n",
       "      <td>36 months</td>\n",
       "      <td>BAT4808022</td>\n",
       "      <td>19.72</td>\n",
       "      <td>D</td>\n",
       "      <td>D5</td>\n",
       "      <td>Us office of Personnel Management</td>\n",
       "      <td>...</td>\n",
       "      <td>0.0</td>\n",
       "      <td>NaN</td>\n",
       "      <td>INDIVIDUAL</td>\n",
       "      <td>NaN</td>\n",
       "      <td>135th week</td>\n",
       "      <td>0.0</td>\n",
       "      <td>0.0</td>\n",
       "      <td>55564.0</td>\n",
       "      <td>24700.0</td>\n",
       "      <td>0</td>\n",
       "    </tr>\n",
       "    <tr>\n",
       "      <th>4</th>\n",
       "      <td>7652106</td>\n",
       "      <td>16000</td>\n",
       "      <td>16000</td>\n",
       "      <td>16000.0</td>\n",
       "      <td>36 months</td>\n",
       "      <td>BAT2833642</td>\n",
       "      <td>10.64</td>\n",
       "      <td>B</td>\n",
       "      <td>B2</td>\n",
       "      <td>LAUSD-HOLLYWOOD HIGH SCHOOL</td>\n",
       "      <td>...</td>\n",
       "      <td>0.0</td>\n",
       "      <td>NaN</td>\n",
       "      <td>INDIVIDUAL</td>\n",
       "      <td>NaN</td>\n",
       "      <td>96th week</td>\n",
       "      <td>0.0</td>\n",
       "      <td>0.0</td>\n",
       "      <td>47159.0</td>\n",
       "      <td>47033.0</td>\n",
       "      <td>0</td>\n",
       "    </tr>\n",
       "  </tbody>\n",
       "</table>\n",
       "<p>5 rows × 45 columns</p>\n",
       "</div>"
      ],
      "text/plain": [
       "   member_id  loan_amnt  funded_amnt  funded_amnt_inv       term  \\\n",
       "0   58189336      14350        14350          14350.0  36 months   \n",
       "1   70011223       4800         4800           4800.0  36 months   \n",
       "2   70255675      10000        10000          10000.0  36 months   \n",
       "3    1893936      15000        15000          15000.0  36 months   \n",
       "4    7652106      16000        16000          16000.0  36 months   \n",
       "\n",
       "  batch_enrolled  int_rate grade sub_grade                          emp_title  \\\n",
       "0                    19.19     E        E3                              clerk   \n",
       "1     BAT1586599     10.99     B        B4         Human Resources Specialist   \n",
       "2     BAT1586599      7.26     A        A4                             Driver   \n",
       "3     BAT4808022     19.72     D        D5  Us office of Personnel Management   \n",
       "4     BAT2833642     10.64     B        B2        LAUSD-HOLLYWOOD HIGH SCHOOL   \n",
       "\n",
       "   ... collections_12_mths_ex_med mths_since_last_major_derog  \\\n",
       "0  ...                        0.0                        74.0   \n",
       "1  ...                        0.0                         NaN   \n",
       "2  ...                        0.0                         NaN   \n",
       "3  ...                        0.0                         NaN   \n",
       "4  ...                        0.0                         NaN   \n",
       "\n",
       "   application_type verification_status_joint last_week_pay acc_now_delinq  \\\n",
       "0        INDIVIDUAL                       NaN     26th week            0.0   \n",
       "1        INDIVIDUAL                       NaN      9th week            0.0   \n",
       "2        INDIVIDUAL                       NaN      9th week            0.0   \n",
       "3        INDIVIDUAL                       NaN    135th week            0.0   \n",
       "4        INDIVIDUAL                       NaN     96th week            0.0   \n",
       "\n",
       "  tot_coll_amt tot_cur_bal total_rev_hi_lim loan_status  \n",
       "0          0.0     28699.0          30800.0           0  \n",
       "1          0.0      9974.0          32900.0           0  \n",
       "2         65.0     38295.0          34900.0           0  \n",
       "3          0.0     55564.0          24700.0           0  \n",
       "4          0.0     47159.0          47033.0           0  \n",
       "\n",
       "[5 rows x 45 columns]"
      ]
     },
     "execution_count": 5,
     "metadata": {},
     "output_type": "execute_result"
    }
   ],
   "source": [
    "#displayes first 5 records in train\n",
    "train.head()"
   ]
  },
  {
   "cell_type": "code",
   "execution_count": 6,
   "metadata": {
    "id": "EuS7tr3ZibVj"
   },
   "outputs": [
    {
     "data": {
      "text/html": [
       "<div>\n",
       "<style scoped>\n",
       "    .dataframe tbody tr th:only-of-type {\n",
       "        vertical-align: middle;\n",
       "    }\n",
       "\n",
       "    .dataframe tbody tr th {\n",
       "        vertical-align: top;\n",
       "    }\n",
       "\n",
       "    .dataframe thead th {\n",
       "        text-align: right;\n",
       "    }\n",
       "</style>\n",
       "<table border=\"1\" class=\"dataframe\">\n",
       "  <thead>\n",
       "    <tr style=\"text-align: right;\">\n",
       "      <th></th>\n",
       "      <th>member_id</th>\n",
       "      <th>loan_amnt</th>\n",
       "      <th>funded_amnt</th>\n",
       "      <th>funded_amnt_inv</th>\n",
       "      <th>term</th>\n",
       "      <th>batch_enrolled</th>\n",
       "      <th>int_rate</th>\n",
       "      <th>grade</th>\n",
       "      <th>sub_grade</th>\n",
       "      <th>emp_title</th>\n",
       "      <th>...</th>\n",
       "      <th>collection_recovery_fee</th>\n",
       "      <th>collections_12_mths_ex_med</th>\n",
       "      <th>mths_since_last_major_derog</th>\n",
       "      <th>application_type</th>\n",
       "      <th>verification_status_joint</th>\n",
       "      <th>last_week_pay</th>\n",
       "      <th>acc_now_delinq</th>\n",
       "      <th>tot_coll_amt</th>\n",
       "      <th>tot_cur_bal</th>\n",
       "      <th>total_rev_hi_lim</th>\n",
       "    </tr>\n",
       "  </thead>\n",
       "  <tbody>\n",
       "    <tr>\n",
       "      <th>0</th>\n",
       "      <td>11937648</td>\n",
       "      <td>14000</td>\n",
       "      <td>14000</td>\n",
       "      <td>14000.0</td>\n",
       "      <td>60 months</td>\n",
       "      <td>BAT4711174</td>\n",
       "      <td>16.24</td>\n",
       "      <td>C</td>\n",
       "      <td>C5</td>\n",
       "      <td>Data Analyst</td>\n",
       "      <td>...</td>\n",
       "      <td>0.0</td>\n",
       "      <td>0.0</td>\n",
       "      <td>NaN</td>\n",
       "      <td>INDIVIDUAL</td>\n",
       "      <td>NaN</td>\n",
       "      <td>104th week</td>\n",
       "      <td>0.0</td>\n",
       "      <td>0.0</td>\n",
       "      <td>85230.0</td>\n",
       "      <td>45700.0</td>\n",
       "    </tr>\n",
       "    <tr>\n",
       "      <th>1</th>\n",
       "      <td>38983318</td>\n",
       "      <td>16000</td>\n",
       "      <td>16000</td>\n",
       "      <td>16000.0</td>\n",
       "      <td>60 months</td>\n",
       "      <td>BAT4318899</td>\n",
       "      <td>9.49</td>\n",
       "      <td>B</td>\n",
       "      <td>B2</td>\n",
       "      <td>Senior Database Administrator</td>\n",
       "      <td>...</td>\n",
       "      <td>0.0</td>\n",
       "      <td>0.0</td>\n",
       "      <td>NaN</td>\n",
       "      <td>INDIVIDUAL</td>\n",
       "      <td>NaN</td>\n",
       "      <td>57th week</td>\n",
       "      <td>0.0</td>\n",
       "      <td>0.0</td>\n",
       "      <td>444991.0</td>\n",
       "      <td>21400.0</td>\n",
       "    </tr>\n",
       "    <tr>\n",
       "      <th>2</th>\n",
       "      <td>27999917</td>\n",
       "      <td>11050</td>\n",
       "      <td>11050</td>\n",
       "      <td>11050.0</td>\n",
       "      <td>60 months</td>\n",
       "      <td>BAT446479</td>\n",
       "      <td>15.61</td>\n",
       "      <td>D</td>\n",
       "      <td>D1</td>\n",
       "      <td>Customer service representative</td>\n",
       "      <td>...</td>\n",
       "      <td>0.0</td>\n",
       "      <td>0.0</td>\n",
       "      <td>26.0</td>\n",
       "      <td>INDIVIDUAL</td>\n",
       "      <td>NaN</td>\n",
       "      <td>70th week</td>\n",
       "      <td>0.0</td>\n",
       "      <td>0.0</td>\n",
       "      <td>105737.0</td>\n",
       "      <td>16300.0</td>\n",
       "    </tr>\n",
       "    <tr>\n",
       "      <th>3</th>\n",
       "      <td>61514932</td>\n",
       "      <td>35000</td>\n",
       "      <td>35000</td>\n",
       "      <td>34700.0</td>\n",
       "      <td>60 months</td>\n",
       "      <td>BAT4664105</td>\n",
       "      <td>12.69</td>\n",
       "      <td>C</td>\n",
       "      <td>C2</td>\n",
       "      <td>ACCT OFFICER</td>\n",
       "      <td>...</td>\n",
       "      <td>0.0</td>\n",
       "      <td>0.0</td>\n",
       "      <td>NaN</td>\n",
       "      <td>INDIVIDUAL</td>\n",
       "      <td>NaN</td>\n",
       "      <td>22th week</td>\n",
       "      <td>0.0</td>\n",
       "      <td>0.0</td>\n",
       "      <td>287022.0</td>\n",
       "      <td>72400.0</td>\n",
       "    </tr>\n",
       "    <tr>\n",
       "      <th>4</th>\n",
       "      <td>59622821</td>\n",
       "      <td>6500</td>\n",
       "      <td>6500</td>\n",
       "      <td>6500.0</td>\n",
       "      <td>36 months</td>\n",
       "      <td></td>\n",
       "      <td>6.89</td>\n",
       "      <td>A</td>\n",
       "      <td>A3</td>\n",
       "      <td>Paralegal</td>\n",
       "      <td>...</td>\n",
       "      <td>0.0</td>\n",
       "      <td>0.0</td>\n",
       "      <td>NaN</td>\n",
       "      <td>INDIVIDUAL</td>\n",
       "      <td>NaN</td>\n",
       "      <td>22th week</td>\n",
       "      <td>0.0</td>\n",
       "      <td>0.0</td>\n",
       "      <td>234278.0</td>\n",
       "      <td>26700.0</td>\n",
       "    </tr>\n",
       "  </tbody>\n",
       "</table>\n",
       "<p>5 rows × 44 columns</p>\n",
       "</div>"
      ],
      "text/plain": [
       "   member_id  loan_amnt  funded_amnt  funded_amnt_inv       term  \\\n",
       "0   11937648      14000        14000          14000.0  60 months   \n",
       "1   38983318      16000        16000          16000.0  60 months   \n",
       "2   27999917      11050        11050          11050.0  60 months   \n",
       "3   61514932      35000        35000          34700.0  60 months   \n",
       "4   59622821       6500         6500           6500.0  36 months   \n",
       "\n",
       "  batch_enrolled  int_rate grade sub_grade                        emp_title  \\\n",
       "0     BAT4711174     16.24     C        C5                     Data Analyst   \n",
       "1     BAT4318899      9.49     B        B2    Senior Database Administrator   \n",
       "2      BAT446479     15.61     D        D1  Customer service representative   \n",
       "3     BAT4664105     12.69     C        C2                     ACCT OFFICER   \n",
       "4                     6.89     A        A3                        Paralegal   \n",
       "\n",
       "   ... collection_recovery_fee collections_12_mths_ex_med  \\\n",
       "0  ...                     0.0                        0.0   \n",
       "1  ...                     0.0                        0.0   \n",
       "2  ...                     0.0                        0.0   \n",
       "3  ...                     0.0                        0.0   \n",
       "4  ...                     0.0                        0.0   \n",
       "\n",
       "   mths_since_last_major_derog application_type verification_status_joint  \\\n",
       "0                          NaN       INDIVIDUAL                       NaN   \n",
       "1                          NaN       INDIVIDUAL                       NaN   \n",
       "2                         26.0       INDIVIDUAL                       NaN   \n",
       "3                          NaN       INDIVIDUAL                       NaN   \n",
       "4                          NaN       INDIVIDUAL                       NaN   \n",
       "\n",
       "  last_week_pay acc_now_delinq tot_coll_amt tot_cur_bal total_rev_hi_lim  \n",
       "0    104th week            0.0          0.0     85230.0          45700.0  \n",
       "1     57th week            0.0          0.0    444991.0          21400.0  \n",
       "2     70th week            0.0          0.0    105737.0          16300.0  \n",
       "3     22th week            0.0          0.0    287022.0          72400.0  \n",
       "4     22th week            0.0          0.0    234278.0          26700.0  \n",
       "\n",
       "[5 rows x 44 columns]"
      ]
     },
     "execution_count": 6,
     "metadata": {},
     "output_type": "execute_result"
    }
   ],
   "source": [
    "#displayes first 5 records in test\n",
    "test.head()"
   ]
  },
  {
   "cell_type": "code",
   "execution_count": 7,
   "metadata": {
    "id": "uyGH6OpGiqPn"
   },
   "outputs": [
    {
     "name": "stdout",
     "output_type": "stream",
     "text": [
      "The list of columns present in the train Dataset is\n",
      "Index(['member_id', 'loan_amnt', 'funded_amnt', 'funded_amnt_inv', 'term',\n",
      "       'batch_enrolled', 'int_rate', 'grade', 'sub_grade', 'emp_title',\n",
      "       'emp_length', 'home_ownership', 'annual_inc', 'verification_status',\n",
      "       'pymnt_plan', 'desc', 'purpose', 'title', 'zip_code', 'addr_state',\n",
      "       'dti', 'delinq_2yrs', 'inq_last_6mths', 'mths_since_last_delinq',\n",
      "       'mths_since_last_record', 'open_acc', 'pub_rec', 'revol_bal',\n",
      "       'revol_util', 'total_acc', 'initial_list_status', 'total_rec_int',\n",
      "       'total_rec_late_fee', 'recoveries', 'collection_recovery_fee',\n",
      "       'collections_12_mths_ex_med', 'mths_since_last_major_derog',\n",
      "       'application_type', 'verification_status_joint', 'last_week_pay',\n",
      "       'acc_now_delinq', 'tot_coll_amt', 'tot_cur_bal', 'total_rev_hi_lim',\n",
      "       'loan_status'],\n",
      "      dtype='object')\n",
      "The list of columns present in the test Dataset is\n",
      "Index(['member_id', 'loan_amnt', 'funded_amnt', 'funded_amnt_inv', 'term',\n",
      "       'batch_enrolled', 'int_rate', 'grade', 'sub_grade', 'emp_title',\n",
      "       'emp_length', 'home_ownership', 'annual_inc', 'verification_status',\n",
      "       'pymnt_plan', 'desc', 'purpose', 'title', 'zip_code', 'addr_state',\n",
      "       'dti', 'delinq_2yrs', 'inq_last_6mths', 'mths_since_last_delinq',\n",
      "       'mths_since_last_record', 'open_acc', 'pub_rec', 'revol_bal',\n",
      "       'revol_util', 'total_acc', 'initial_list_status', 'total_rec_int',\n",
      "       'total_rec_late_fee', 'recoveries', 'collection_recovery_fee',\n",
      "       'collections_12_mths_ex_med', 'mths_since_last_major_derog',\n",
      "       'application_type', 'verification_status_joint', 'last_week_pay',\n",
      "       'acc_now_delinq', 'tot_coll_amt', 'tot_cur_bal', 'total_rev_hi_lim'],\n",
      "      dtype='object')\n"
     ]
    }
   ],
   "source": [
    "print(\"The list of columns present in the train Dataset is\")\n",
    "print(train.columns)\n",
    "print(\"The list of columns present in the test Dataset is\")\n",
    "print(test.columns)"
   ]
  },
  {
   "cell_type": "code",
   "execution_count": 8,
   "metadata": {
    "id": "P_wGOVWsjK-t"
   },
   "outputs": [
    {
     "name": "stdout",
     "output_type": "stream",
     "text": [
      "Number of Rows and Columns in the Train dataset\n",
      "(532428, 45)\n",
      "Number of Rows and Columns in the Test dataset\n",
      "(354951, 44)\n"
     ]
    }
   ],
   "source": [
    "print(\"Number of Rows and Columns in the Train dataset\")\n",
    "print(train.shape)\n",
    "print(\"Number of Rows and Columns in the Test dataset\")\n",
    "print(test.shape)"
   ]
  },
  {
   "cell_type": "markdown",
   "metadata": {
    "id": "KIQPnTlLjF4z"
   },
   "source": [
    "**Target variable** In this dataset, 44 independent vairable and 1 target variable. i.e loan_status"
   ]
  },
  {
   "cell_type": "code",
   "execution_count": 9,
   "metadata": {
    "id": "YUGbIHQNI1Jt"
   },
   "outputs": [
    {
     "data": {
      "text/plain": [
       "0    406601\n",
       "1    125827\n",
       "Name: loan_status, dtype: int64"
      ]
     },
     "execution_count": 9,
     "metadata": {},
     "output_type": "execute_result"
    }
   ],
   "source": [
    "train['loan_status'].value_counts()"
   ]
  },
  {
   "cell_type": "markdown",
   "metadata": {
    "id": "chqEq4bCjZEQ"
   },
   "source": [
    "loan_status consists of binary value, where 0 represents the 406601 defaulters and 1 represents the 125827 non-defaulters. In total recodes 76.36% of records are defaulted"
   ]
  },
  {
   "cell_type": "code",
   "execution_count": 10,
   "metadata": {
    "id": "TDq6GbWuxfit"
   },
   "outputs": [
    {
     "data": {
      "text/plain": [
       "<matplotlib.axes._subplots.AxesSubplot at 0x140bfee19a0>"
      ]
     },
     "execution_count": 10,
     "metadata": {},
     "output_type": "execute_result"
    },
    {
     "data": {
      "image/png": "[encoded data removed]",
      "text/plain": [
       "<Figure size 432x288 with 1 Axes>"
      ]
     },
     "metadata": {
      "needs_background": "light"
     },
     "output_type": "display_data"
    }
   ],
   "source": [
    "train['loan_status'].value_counts().plot.bar()"
   ]
  },
  {
   "cell_type": "markdown",
   "metadata": {
    "id": "sIsCWsNcjkwC"
   },
   "source": [
    "\n",
    "\n",
    "**Exploratary Data Analysis** Lets see, how independent variable influnces loan_status so that defaulters rate increased\n",
    "\n"
   ]
  },
  {
   "cell_type": "markdown",
   "metadata": {
    "id": "-zAGJhH5kAZQ"
   },
   "source": [
    "**Loan amount vs. loan status**"
   ]
  },
  {
   "cell_type": "code",
   "execution_count": 11,
   "metadata": {
    "id": "KQHF8fxekJy-"
   },
   "outputs": [
    {
     "name": "stdout",
     "output_type": "stream",
     "text": [
      "             loan_amnt\n",
      "loan_status           \n",
      "0             78.69123\n",
      "1             21.30877\n"
     ]
    },
    {
     "data": {
      "text/plain": [
       "<matplotlib.axes._subplots.AxesSubplot at 0x140d0f58be0>"
      ]
     },
     "execution_count": 11,
     "metadata": {},
     "output_type": "execute_result"
    },
    {
     "data": {
      "image/png": "[encoded data removed]",
      "text/plain": [
       "<Figure size 432x288 with 1 Axes>"
      ]
     },
     "metadata": {
      "needs_background": "light"
     },
     "output_type": "display_data"
    }
   ],
   "source": [
    "#relation between loan amount and loan status\n",
    "\n",
    "print(train[['loan_amnt','loan_status']].groupby(by='loan_status').sum()*100/(train['loan_amnt'].sum()))\n",
    "train[['loan_amnt','loan_status']].groupby(by='loan_status').sum().plot.bar()\n",
    "\n",
    "#it shows 78.69 % of the loan amount is default"
   ]
  },
  {
   "cell_type": "code",
   "execution_count": 12,
   "metadata": {
    "id": "eqdDq4gDkJmi"
   },
   "outputs": [
    {
     "data": {
      "text/plain": [
       "<matplotlib.axes._subplots.AxesSubplot at 0x140d0fcc130>"
      ]
     },
     "execution_count": 12,
     "metadata": {},
     "output_type": "execute_result"
    },
    {
     "data": {
      "image/png": "[encoded data removed]",
      "text/plain": [
       "<Figure size 432x288 with 1 Axes>"
      ]
     },
     "metadata": {
      "needs_background": "light"
     },
     "output_type": "display_data"
    }
   ],
   "source": [
    "#relation between average loan amount and loan status\n",
    "train[['loan_amnt','loan_status']].groupby(by='loan_status').mean().plot.bar()\n",
    "\n",
    "#Loan defaulters apply for larger loans."
   ]
  },
  {
   "cell_type": "markdown",
   "metadata": {
    "id": "f5mXlnTCkiKj"
   },
   "source": [
    "**Term vs. loan_status** term variable consists of both numeric and object as value (e.g 36 months). Only numeric value is taken for further processing."
   ]
  },
  {
   "cell_type": "code",
   "execution_count": 13,
   "metadata": {
    "id": "GWlqBuSgk_Dd"
   },
   "outputs": [
    {
     "data": {
      "text/plain": [
       "array(['36 months', '60 months'], dtype=object)"
      ]
     },
     "execution_count": 13,
     "metadata": {},
     "output_type": "execute_result"
    }
   ],
   "source": [
    "train['term'].unique()"
   ]
  },
  {
   "cell_type": "code",
   "execution_count": 14,
   "metadata": {
    "id": "Pm4NkbiqGG3Q"
   },
   "outputs": [],
   "source": [
    "#string is removed from the term variable\n",
    "def encode_term(x):\n",
    "    return int(x.split(' ')[0])\n",
    "    \n",
    "train['term']=train['term'].apply(encode_term)"
   ]
  },
  {
   "cell_type": "code",
   "execution_count": 15,
   "metadata": {
    "id": "MRhabYnGn0rz"
   },
   "outputs": [],
   "source": [
    "#Change in test\n",
    "test['term']=test['term'].apply(encode_term)"
   ]
  },
  {
   "cell_type": "code",
   "execution_count": 16,
   "metadata": {
    "id": "PnfPLc1glBgM"
   },
   "outputs": [
    {
     "data": {
      "text/plain": [
       "array([36, 60], dtype=int64)"
      ]
     },
     "execution_count": 16,
     "metadata": {},
     "output_type": "execute_result"
    }
   ],
   "source": [
    "train['term'].unique()\n",
    "#Now only numeric values are present in term"
   ]
  },
  {
   "cell_type": "markdown",
   "metadata": {
    "id": "ZIG1Xu2BlO4r"
   },
   "source": [
    "Comparison of loan defaulters rate against the term"
   ]
  },
  {
   "cell_type": "code",
   "execution_count": 17,
   "metadata": {
    "id": "1Jsy_iMRGhRD"
   },
   "outputs": [
    {
     "name": "stdout",
     "output_type": "stream",
     "text": [
      "term                36         60\n",
      "loan_status                      \n",
      "0            66.679620  33.320380\n",
      "1            80.803802  19.196198\n"
     ]
    },
    {
     "data": {
      "text/plain": [
       "<matplotlib.axes._subplots.AxesSubplot at 0x140d1022c10>"
      ]
     },
     "execution_count": 17,
     "metadata": {},
     "output_type": "execute_result"
    },
    {
     "data": {
      "image/png": "[encoded data removed]",
      "text/plain": [
       "<Figure size 432x288 with 1 Axes>"
      ]
     },
     "metadata": {
      "needs_background": "light"
     },
     "output_type": "display_data"
    }
   ],
   "source": [
    "print(pd.crosstab(train['loan_status'],train['term']).apply(lambda r: 100*r/r.sum(), axis=1))\n",
    "pd.crosstab(train['loan_status'],train['term']).apply(lambda r: 100*r/r.sum(), axis=1).plot.bar()"
   ]
  },
  {
   "cell_type": "markdown",
   "metadata": {
    "id": "3_vywJYlNPJq"
   },
   "source": [
    "**Interest rate vs. loan status**"
   ]
  },
  {
   "cell_type": "code",
   "execution_count": 18,
   "metadata": {
    "id": "21DcZAEnKqhN"
   },
   "outputs": [
    {
     "name": "stdout",
     "output_type": "stream",
     "text": [
      "535\n"
     ]
    }
   ],
   "source": [
    "print(train['int_rate'].nunique())\n",
    "#train['int_rate'].sort_values().unique()"
   ]
  },
  {
   "cell_type": "markdown",
   "metadata": {
    "id": "IYZzhfdal3Gx"
   },
   "source": [
    "interest rate is grouped into 5 category as follows"
   ]
  },
  {
   "cell_type": "code",
   "execution_count": 19,
   "metadata": {
    "id": "Dr45fJQzKoJ6"
   },
   "outputs": [],
   "source": [
    "def encode_interest(x):\n",
    "    if x>=5.0 and x<10.0:\n",
    "      return 1\n",
    "    if x>=10.0 and x<15.0:\n",
    "      return 2\n",
    "    if x>=15.0 and x<20.0:\n",
    "      return 3\n",
    "    if x>=20.0 and x<25.0:\n",
    "      return 4\n",
    "    else:\n",
    "      return 5\n",
    "    \n",
    "train['int_rate']=train['int_rate'].apply(encode_interest)"
   ]
  },
  {
   "cell_type": "code",
   "execution_count": 20,
   "metadata": {
    "id": "lo3wa6XIoO20"
   },
   "outputs": [],
   "source": [
    "#change in test \n",
    "test['int_rate']=test['int_rate'].apply(encode_interest)"
   ]
  },
  {
   "cell_type": "code",
   "execution_count": 21,
   "metadata": {
    "id": "oQrwvXpvmBr9"
   },
   "outputs": [
    {
     "name": "stdout",
     "output_type": "stream",
     "text": [
      "5\n"
     ]
    },
    {
     "data": {
      "text/plain": [
       "array([1, 2, 3, 4, 5], dtype=int64)"
      ]
     },
     "execution_count": 21,
     "metadata": {},
     "output_type": "execute_result"
    }
   ],
   "source": [
    "print(train['int_rate'].nunique())\n",
    "train['int_rate'].sort_values().unique()\n",
    "#interest rates are grouped into 5 categories "
   ]
  },
  {
   "cell_type": "markdown",
   "metadata": {
    "id": "PSph-d43mKkG"
   },
   "source": [
    "Lets compare the loan_status against int_rate"
   ]
  },
  {
   "cell_type": "code",
   "execution_count": 22,
   "metadata": {
    "id": "7ln0zH5cHZn6"
   },
   "outputs": [
    {
     "name": "stdout",
     "output_type": "stream",
     "text": [
      "loan_status          0          1\n",
      "int_rate                         \n",
      "1            78.638877  21.361123\n",
      "2            75.024429  24.975571\n",
      "3            76.058418  23.941582\n",
      "4            76.178898  23.821102\n",
      "5            82.924254  17.075746\n"
     ]
    },
    {
     "data": {
      "image/png": "[encoded data removed]",
      "text/plain": [
       "<Figure size 432x288 with 1 Axes>"
      ]
     },
     "metadata": {
      "needs_background": "light"
     },
     "output_type": "display_data"
    }
   ],
   "source": [
    "pd.crosstab(train['int_rate'],train['loan_status']).apply(lambda r: 100*r/r.sum(), axis=1).plot.bar()\n",
    "\n",
    "print(pd.crosstab(train['int_rate'],train['loan_status']).apply(lambda r: 100*r/r.sum(), axis=1))\n"
   ]
  },
  {
   "cell_type": "markdown",
   "metadata": {
    "id": "6dfrgLRbmZt1"
   },
   "source": [
    "Defaulters are normally distributed through all categories of int_rate but still, interest greater than 25 has higher defaulters\n"
   ]
  },
  {
   "cell_type": "markdown",
   "metadata": {
    "id": "myLEJ1RDODGU"
   },
   "source": [
    "**Grade vs. loan status**"
   ]
  },
  {
   "cell_type": "code",
   "execution_count": 23,
   "metadata": {
    "id": "G7PxOCSvJnTZ"
   },
   "outputs": [
    {
     "name": "stdout",
     "output_type": "stream",
     "text": [
      "B    152713\n",
      "C    147499\n",
      "A     89107\n",
      "D     83567\n",
      "E     42495\n",
      "F     13826\n",
      "G      3221\n",
      "Name: grade, dtype: int64\n",
      "7\n",
      "['E' 'B' 'A' 'D' 'C' 'F' 'G']\n"
     ]
    }
   ],
   "source": [
    "print(train['grade'].value_counts())\n",
    "print(train['grade'].nunique())\n",
    "print(train['grade'].unique())"
   ]
  },
  {
   "cell_type": "markdown",
   "metadata": {
    "id": "1RQG7n3wmoJb"
   },
   "source": [
    "Lets compare the loan_status against grade"
   ]
  },
  {
   "cell_type": "code",
   "execution_count": 24,
   "metadata": {
    "id": "Q3iXny7NJ7gT"
   },
   "outputs": [
    {
     "name": "stdout",
     "output_type": "stream",
     "text": [
      "loan_status          0          1\n",
      "grade                            \n",
      "A            73.112101  26.887899\n",
      "B            73.672182  26.327818\n",
      "C            78.359175  21.640825\n",
      "D            78.283294  21.716706\n",
      "E            81.310742  18.689258\n",
      "F            79.082887  20.917113\n",
      "G            76.404843  23.595157\n"
     ]
    },
    {
     "data": {
      "image/png": "[encoded data removed]",
      "text/plain": [
       "<Figure size 432x288 with 1 Axes>"
      ]
     },
     "metadata": {
      "needs_background": "light"
     },
     "output_type": "display_data"
    }
   ],
   "source": [
    "pd.crosstab(train['grade'],train['loan_status']).apply(lambda r: 100*r/r.sum(), axis=1).plot.bar()\n",
    "\n",
    "print(pd.crosstab(train['grade'],train['loan_status']).apply(lambda r: 100*r/r.sum(), axis=1))\n"
   ]
  },
  {
   "cell_type": "markdown",
   "metadata": {
    "id": "LMXai4dkOmxp"
   },
   "source": [
    "**Employee length vs. loan status**"
   ]
  },
  {
   "cell_type": "code",
   "execution_count": 25,
   "metadata": {
    "id": "ZF5uqijSOuas"
   },
   "outputs": [
    {
     "name": "stdout",
     "output_type": "stream",
     "text": [
      "Employment length cateory\n",
      "11\n",
      "Employment length of the Employees \n",
      "['9 years' '< 1 year' '2 years' '10+ years' '5 years' '8 years' '7 years'\n",
      " '4 years' nan '1 year' '3 years' '6 years']\n",
      "10+ years    175105\n",
      "2 years       47276\n",
      "< 1 year      42253\n",
      "3 years       42175\n",
      "1 year        34202\n",
      "5 years       33393\n",
      "4 years       31581\n",
      "7 years       26680\n",
      "8 years       26443\n",
      "6 years       25741\n",
      "9 years       20688\n",
      "Name: emp_length, dtype: int64\n"
     ]
    }
   ],
   "source": [
    "print(\"Employment length cateory\")\n",
    "print(train['emp_length'].nunique())\n",
    "print(\"Employment length of the Employees \")\n",
    "print(train['emp_length'].unique())\n",
    "print(train['emp_length'].value_counts())"
   ]
  },
  {
   "cell_type": "markdown",
   "metadata": {
    "id": "vjD81gC2nGzY"
   },
   "source": [
    "emp_length consists of both numerical and object data. so that, object value is removed as follows\n"
   ]
  },
  {
   "cell_type": "code",
   "execution_count": 26,
   "metadata": {
    "id": "RbYG_HXcOuPH"
   },
   "outputs": [],
   "source": [
    "def encode_emp_length(x):\n",
    "    if type(x)==float: #Check for nan ,as only Nans are float while other values are str\n",
    "        return x\n",
    "    if x=='10+ years':\n",
    "        return 10\n",
    "    if x=='< 1 year':\n",
    "        return 0\n",
    "    else:\n",
    "        return int(x.split(' ')[0])\n",
    "    \n",
    "train['emp_length']=train['emp_length'].apply(encode_emp_length)"
   ]
  },
  {
   "cell_type": "code",
   "execution_count": 27,
   "metadata": {
    "id": "Hja3UdG_obhN"
   },
   "outputs": [],
   "source": [
    "test['emp_length']=test['emp_length'].apply(encode_emp_length)"
   ]
  },
  {
   "cell_type": "code",
   "execution_count": 28,
   "metadata": {
    "id": "gmj_yg57OuGt"
   },
   "outputs": [
    {
     "name": "stdout",
     "output_type": "stream",
     "text": [
      "Employment length cateory\n",
      "11\n",
      "Employment length of the Employees \n",
      "[ 9.  0.  2. 10.  5.  8.  7.  4. nan  1.  3.  6.]\n"
     ]
    }
   ],
   "source": [
    "print(\"Employment length cateory\")\n",
    "print(train['emp_length'].nunique())\n",
    "print(\"Employment length of the Employees \")\n",
    "print(train['emp_length'].unique())"
   ]
  },
  {
   "cell_type": "markdown",
   "metadata": {
    "id": "GoIqb2wFnSlC"
   },
   "source": [
    "employee length is converted into numerical value. Lets compare the loan_status against emp_length"
   ]
  },
  {
   "cell_type": "code",
   "execution_count": 29,
   "metadata": {
    "id": "8t3h4_SFOt7X"
   },
   "outputs": [
    {
     "name": "stdout",
     "output_type": "stream",
     "text": [
      "loan_status          0          1\n",
      "emp_length                       \n",
      "0.0          75.402930  24.597070\n",
      "1.0          75.048243  24.951757\n",
      "2.0          74.966156  25.033844\n",
      "3.0          75.817427  24.182573\n",
      "4.0          74.225009  25.774991\n",
      "5.0          73.278831  26.721169\n",
      "6.0          71.881434  28.118566\n",
      "7.0          73.995502  26.004498\n",
      "8.0          77.419355  22.580645\n",
      "9.0          77.054331  22.945669\n",
      "10.0         78.058308  21.941692\n"
     ]
    },
    {
     "data": {
      "image/png": "[encoded data removed]",
      "text/plain": [
       "<Figure size 432x288 with 1 Axes>"
      ]
     },
     "metadata": {
      "needs_background": "light"
     },
     "output_type": "display_data"
    }
   ],
   "source": [
    "pd.crosstab(train['emp_length'],train['loan_status']).apply(lambda r: 100*r/r.sum(), axis=1).plot.bar()\n",
    "\n",
    "print(pd.crosstab(train['emp_length'],train['loan_status']).apply(lambda r: 100*r/r.sum(), axis=1))\n"
   ]
  },
  {
   "cell_type": "markdown",
   "metadata": {
    "id": "UewT3N4URZ6t"
   },
   "source": [
    "**Home ownership vs. loan status**"
   ]
  },
  {
   "cell_type": "code",
   "execution_count": 30,
   "metadata": {
    "id": "qHjuJsCqRZS7"
   },
   "outputs": [
    {
     "name": "stdout",
     "output_type": "stream",
     "text": [
      "Total home_ownership category\n",
      "6\n",
      "List of home_ownership\n",
      "['OWN' 'MORTGAGE' 'RENT' 'OTHER' 'NONE' 'ANY']\n",
      "MORTGAGE    265940\n",
      "RENT        213668\n",
      "OWN          52664\n",
      "OTHER          117\n",
      "NONE            36\n",
      "ANY              3\n",
      "Name: home_ownership, dtype: int64\n"
     ]
    }
   ],
   "source": [
    "print(\"Total home_ownership category\")\n",
    "print(train['home_ownership'].nunique())\n",
    "print(\"List of home_ownership\")\n",
    "print(train['home_ownership'].unique())\n",
    "print(train['home_ownership'].value_counts())"
   ]
  },
  {
   "cell_type": "code",
   "execution_count": 31,
   "metadata": {
    "id": "5ju7QS7ScxV4"
   },
   "outputs": [],
   "source": [
    "#Change OHTER, NONE, ANY to RENT as these data points are too low.\n",
    "train['home_ownership']=train['home_ownership'].apply(lambda x: 'RENT' if x in ['OTHER','NONE','ANY'] else x)\n",
    "\n",
    "test['home_ownership']=test['home_ownership'].apply(lambda x: 'RENT' if x in ['OTHER','NONE','ANY'] else x)\n"
   ]
  },
  {
   "cell_type": "code",
   "execution_count": 32,
   "metadata": {
    "id": "eFf1-QczcxQY"
   },
   "outputs": [
    {
     "name": "stdout",
     "output_type": "stream",
     "text": [
      "3\n",
      "['OWN' 'MORTGAGE' 'RENT']\n",
      "MORTGAGE    265940\n",
      "RENT        213824\n",
      "OWN          52664\n",
      "Name: home_ownership, dtype: int64\n"
     ]
    }
   ],
   "source": [
    "print(train['home_ownership'].nunique())\n",
    "print(train['home_ownership'].unique())\n",
    "print(train['home_ownership'].value_counts())"
   ]
  },
  {
   "cell_type": "markdown",
   "metadata": {
    "id": "2q4OqWt9oy97"
   },
   "source": [
    "Lets compare the loan_status against home_ownership"
   ]
  },
  {
   "cell_type": "code",
   "execution_count": 33,
   "metadata": {
    "id": "K9LSMUO4cxE8"
   },
   "outputs": [
    {
     "name": "stdout",
     "output_type": "stream",
     "text": [
      "loan_status             0          1\n",
      "home_ownership                      \n",
      "MORTGAGE        76.086335  23.913665\n",
      "OWN             79.251481  20.748519\n",
      "RENT            76.006435  23.993565\n"
     ]
    },
    {
     "data": {
      "image/png": "[encoded data removed]",
      "text/plain": [
       "<Figure size 432x288 with 1 Axes>"
      ]
     },
     "metadata": {
      "needs_background": "light"
     },
     "output_type": "display_data"
    }
   ],
   "source": [
    "pd.crosstab(train['home_ownership'],train['loan_status']).apply(lambda r: 100*r/r.sum(), axis=1).plot.bar()\n",
    "\n",
    "print(pd.crosstab(train['home_ownership'],train['loan_status']).apply(lambda r: 100*r/r.sum(), axis=1))\n",
    "\n"
   ]
  },
  {
   "cell_type": "markdown",
   "metadata": {
    "id": "Y5ECHZg0pDgr"
   },
   "source": [
    "**Verification status vs. loan status**\n"
   ]
  },
  {
   "cell_type": "code",
   "execution_count": null,
   "metadata": {
    "id": "3FBW7XCYpKID"
   },
   "outputs": [],
   "source": [
    "print(\"Types of verification status\")\n",
    "print(train['verification_status'].unique())\n",
    "print(train['verification_status'].value_counts())"
   ]
  },
  {
   "cell_type": "markdown",
   "metadata": {
    "id": "MoiRqyyzpOyk"
   },
   "source": [
    "Lets compare loan_status against verification_status"
   ]
  },
  {
   "cell_type": "code",
   "execution_count": null,
   "metadata": {
    "id": "UBLKBLE4pQ9J"
   },
   "outputs": [],
   "source": [
    "pd.crosstab(train['verification_status'],train['loan_status']).apply(lambda r: 100*r/r.sum(), axis=1).plot.bar()\n",
    "\n",
    "print(pd.crosstab(train['verification_status'],train['loan_status']).apply(lambda r: 100*r/r.sum(), axis=1))\n"
   ]
  },
  {
   "cell_type": "markdown",
   "metadata": {
    "id": "vHG2wkqypZVe"
   },
   "source": [
    "**Loan purpose vs. loan status**"
   ]
  },
  {
   "cell_type": "code",
   "execution_count": 34,
   "metadata": {
    "id": "A4ekcJ7vpeF4"
   },
   "outputs": [
    {
     "data": {
      "text/plain": [
       "array(['debt_consolidation', 'home_improvement', 'credit_card', 'other',\n",
       "       'major_purchase', 'small_business', 'vacation', 'car', 'moving',\n",
       "       'medical', 'wedding', 'renewable_energy', 'house', 'educational'],\n",
       "      dtype=object)"
      ]
     },
     "execution_count": 34,
     "metadata": {},
     "output_type": "execute_result"
    }
   ],
   "source": [
    "train['purpose'].unique()"
   ]
  },
  {
   "cell_type": "markdown",
   "metadata": {
    "id": "6MsL8PgcpotB"
   },
   "source": [
    "Lets compare loan_status against purpose\n"
   ]
  },
  {
   "cell_type": "code",
   "execution_count": 35,
   "metadata": {
    "id": "M40QOaMPpqZo"
   },
   "outputs": [
    {
     "name": "stdout",
     "output_type": "stream",
     "text": [
      "loan_status                 0          1\n",
      "purpose                                 \n",
      "car                 63.273832  36.726168\n",
      "credit_card         79.383844  20.616156\n",
      "debt_consolidation  76.816016  23.183984\n",
      "educational         20.769231  79.230769\n",
      "home_improvement    75.137517  24.862483\n",
      "house               61.658986  38.341014\n",
      "major_purchase      68.154415  31.845585\n",
      "medical             72.816103  27.183897\n",
      "moving              69.904409  30.095591\n",
      "other               72.777951  27.222049\n",
      "renewable_energy    62.839879  37.160121\n",
      "small_business      66.742597  33.257403\n",
      "vacation            72.617354  27.382646\n",
      "wedding             25.695931  74.304069\n"
     ]
    },
    {
     "data": {
      "image/png": "[encoded data removed]",
      "text/plain": [
       "<Figure size 432x288 with 1 Axes>"
      ]
     },
     "metadata": {
      "needs_background": "light"
     },
     "output_type": "display_data"
    }
   ],
   "source": [
    "pd.crosstab(train['purpose'],train['loan_status']).apply(lambda r: 100*r/r.sum(), axis=1).plot.bar()\n",
    "\n",
    "print(pd.crosstab(train['purpose'],train['loan_status']).apply(lambda r: 100*r/r.sum(), axis=1))\n"
   ]
  },
  {
   "cell_type": "markdown",
   "metadata": {
    "id": "_kgqFEkAp3FD"
   },
   "source": [
    "## **Data Cleaning**"
   ]
  },
  {
   "cell_type": "code",
   "execution_count": 36,
   "metadata": {
    "id": "gMTM5_Z-cw6F"
   },
   "outputs": [],
   "source": [
    "#temporarily the data sets are stored, since we are going to change values \n",
    "train1=train.copy()\n",
    "test1=test.copy()"
   ]
  },
  {
   "cell_type": "markdown",
   "metadata": {
    "id": "-boBXAMqeMjV"
   },
   "source": [
    "**Dropping Columns:**\n",
    "funded_amnt, funded_amnt_inv are to be considered after loan approval. To predict new applicant is defaulter or not future oriented vairables are not needed. so these columns are droped and also following columns are dropped."
   ]
  },
  {
   "cell_type": "code",
   "execution_count": 37,
   "metadata": {
    "id": "UHEQTIy2roY4"
   },
   "outputs": [
    {
     "data": {
      "text/plain": [
       "Index(['member_id', 'loan_amnt', 'funded_amnt', 'funded_amnt_inv', 'term',\n",
       "       'batch_enrolled', 'int_rate', 'grade', 'sub_grade', 'emp_title',\n",
       "       'emp_length', 'home_ownership', 'annual_inc', 'verification_status',\n",
       "       'pymnt_plan', 'desc', 'purpose', 'title', 'zip_code', 'addr_state',\n",
       "       'dti', 'delinq_2yrs', 'inq_last_6mths', 'mths_since_last_delinq',\n",
       "       'mths_since_last_record', 'open_acc', 'pub_rec', 'revol_bal',\n",
       "       'revol_util', 'total_acc', 'initial_list_status', 'total_rec_int',\n",
       "       'total_rec_late_fee', 'recoveries', 'collection_recovery_fee',\n",
       "       'collections_12_mths_ex_med', 'mths_since_last_major_derog',\n",
       "       'application_type', 'verification_status_joint', 'last_week_pay',\n",
       "       'acc_now_delinq', 'tot_coll_amt', 'tot_cur_bal', 'total_rev_hi_lim',\n",
       "       'loan_status'],\n",
       "      dtype='object')"
      ]
     },
     "execution_count": 37,
     "metadata": {},
     "output_type": "execute_result"
    }
   ],
   "source": [
    "train.columns"
   ]
  },
  {
   "cell_type": "code",
   "execution_count": 46,
   "metadata": {
    "id": "ibCSGwMQeAgJ"
   },
   "outputs": [],
   "source": [
    "# Drop any column with more than 50% missing values\n",
    "train = train.dropna(thresh=(len(train)/2),axis=1)\n",
    "\n",
    "test = test.dropna(thresh=(len(test)/2),axis=1)\n",
    "\n",
    "train.drop(['member_id','funded_amnt','funded_amnt_inv','batch_enrolled','sub_grade'],axis=1,inplace=True)\n",
    "\n",
    "test.drop(['member_id','funded_amnt','funded_amnt_inv','batch_enrolled','sub_grade'],axis=1,inplace=True)\n",
    "\n",
    "train.drop(['pymnt_plan','last_week_pay','application_type','zip_code'],axis=1,inplace=True)\n",
    "\n",
    "test.drop(['pymnt_plan','last_week_pay','application_type','zip_code'],axis=1,inplace=True)\n",
    "\n",
    "train.drop(['emp_title','title'],axis=1,inplace=True)\n",
    "\n",
    "test.drop(['emp_title','title'],axis=1,inplace=True)\n"
   ]
  },
  {
   "cell_type": "code",
   "execution_count": 44,
   "metadata": {},
   "outputs": [],
   "source": [
    "train.drop(['total_rec_int','total_rec_late_fee','recoveries','collection_recovery_fee'],axis=1,inplace=True)\n",
    "\n",
    "test.drop(['total_rec_int','total_rec_late_fee','recoveries','collection_recovery_fee'],axis=1,inplace=True)\n"
   ]
  },
  {
   "cell_type": "code",
   "execution_count": 41,
   "metadata": {
    "id": "C81wQT6jrsPv"
   },
   "outputs": [
    {
     "data": {
      "text/plain": [
       "Index(['loan_amnt', 'term', 'int_rate', 'grade', 'emp_length',\n",
       "       'home_ownership', 'annual_inc', 'verification_status', 'purpose',\n",
       "       'addr_state', 'dti', 'delinq_2yrs', 'inq_last_6mths', 'open_acc',\n",
       "       'pub_rec', 'revol_bal', 'revol_util', 'total_acc',\n",
       "       'initial_list_status', 'collections_12_mths_ex_med', 'acc_now_delinq',\n",
       "       'tot_coll_amt', 'tot_cur_bal', 'total_rev_hi_lim', 'loan_status'],\n",
       "      dtype='object')"
      ]
     },
     "execution_count": 41,
     "metadata": {},
     "output_type": "execute_result"
    }
   ],
   "source": [
    "train.columns\n",
    "#shows that the above mentioned columns are dropped"
   ]
  },
  {
   "cell_type": "markdown",
   "metadata": {
    "id": "HWBtw9QPq9ho"
   },
   "source": [
    "**Filing Missing Values:** All the missing values are filled with mean, mode, median values\n"
   ]
  },
  {
   "cell_type": "code",
   "execution_count": 47,
   "metadata": {
    "id": "Io2PcKZkrPa7"
   },
   "outputs": [
    {
     "data": {
      "text/plain": [
       "loan_amnt                         0\n",
       "term                              0\n",
       "int_rate                          0\n",
       "grade                             0\n",
       "emp_length                    26891\n",
       "home_ownership                    0\n",
       "annual_inc                        3\n",
       "verification_status               0\n",
       "purpose                           0\n",
       "addr_state                        0\n",
       "dti                               0\n",
       "delinq_2yrs                      16\n",
       "inq_last_6mths                   16\n",
       "open_acc                         16\n",
       "pub_rec                          16\n",
       "revol_bal                         0\n",
       "revol_util                      287\n",
       "total_acc                        16\n",
       "initial_list_status               0\n",
       "collections_12_mths_ex_med       95\n",
       "acc_now_delinq                   16\n",
       "tot_coll_amt                  42004\n",
       "tot_cur_bal                   42004\n",
       "total_rev_hi_lim              42004\n",
       "loan_status                       0\n",
       "dtype: int64"
      ]
     },
     "execution_count": 47,
     "metadata": {},
     "output_type": "execute_result"
    }
   ],
   "source": [
    "#Shows the number of values present in each columns\n",
    "train.isnull().sum()"
   ]
  },
  {
   "cell_type": "code",
   "execution_count": 48,
   "metadata": {
    "id": "cE6y48A2rMb1"
   },
   "outputs": [
    {
     "data": {
      "text/plain": [
       "loan_amnt                         0\n",
       "term                              0\n",
       "int_rate                          0\n",
       "grade                             0\n",
       "emp_length                    17934\n",
       "home_ownership                    0\n",
       "annual_inc                        1\n",
       "verification_status               0\n",
       "purpose                           0\n",
       "addr_state                        0\n",
       "dti                               0\n",
       "delinq_2yrs                      13\n",
       "inq_last_6mths                   13\n",
       "open_acc                         13\n",
       "pub_rec                          13\n",
       "revol_bal                         0\n",
       "revol_util                      215\n",
       "total_acc                        13\n",
       "initial_list_status               0\n",
       "collections_12_mths_ex_med       50\n",
       "acc_now_delinq                   13\n",
       "tot_coll_amt                  28272\n",
       "tot_cur_bal                   28272\n",
       "total_rev_hi_lim              28272\n",
       "dtype: int64"
      ]
     },
     "execution_count": 48,
     "metadata": {},
     "output_type": "execute_result"
    }
   ],
   "source": [
    "#Shows the number of values present in each columns\n",
    "test.isnull().sum()"
   ]
  },
  {
   "cell_type": "code",
   "execution_count": 49,
   "metadata": {
    "id": "rF4dhlE8eAdQ"
   },
   "outputs": [],
   "source": [
    "\n",
    "train['emp_length'].fillna(train['emp_length'].mode()[0], inplace=True)\n",
    "\n",
    "test['emp_length'].fillna(test['emp_length'].mode()[0], inplace=True)\n",
    "\n",
    "\n",
    "train['revol_util'].fillna(train['revol_util'].mean(), inplace=True)\n",
    "\n",
    "test['revol_util'].fillna(test['revol_util'].mean(), inplace=True)\n",
    "\n",
    "train['tot_coll_amt'].fillna(train['tot_coll_amt'].mode()[0], inplace=True)\n",
    "\n",
    "test['tot_coll_amt'].fillna(test['tot_coll_amt'].mode()[0], inplace=True)\n",
    "\n",
    "train['tot_cur_bal'].fillna(train['tot_cur_bal'].mean(), inplace=True)\n",
    "\n",
    "test['tot_cur_bal'].fillna(test['tot_cur_bal'].mean(), inplace=True)\n",
    "\n",
    "train['total_rev_hi_lim'].fillna(train['total_rev_hi_lim'].median(), inplace=True)\n",
    "\n",
    "test['total_rev_hi_lim'].fillna(test['total_rev_hi_lim'].median(), inplace=True)\n",
    "\n",
    "train['collections_12_mths_ex_med'].fillna(train['collections_12_mths_ex_med'].median(), inplace=True)\n",
    "\n",
    "test['collections_12_mths_ex_med'].fillna(test['collections_12_mths_ex_med'].median(), inplace=True)\n",
    "\n",
    "train['annual_inc'].fillna(train['annual_inc'].median(), inplace=True)\n",
    "\n",
    "test['annual_inc'].fillna(test['annual_inc'].median(), inplace=True)\n",
    "\n",
    "train['delinq_2yrs'].fillna(train['delinq_2yrs'].median(), inplace=True)\n",
    "\n",
    "test['delinq_2yrs'].fillna(test['delinq_2yrs'].median(), inplace=True)\n",
    "\n",
    "train['inq_last_6mths'].fillna(train['inq_last_6mths'].median(), inplace=True)\n",
    "\n",
    "test['inq_last_6mths'].fillna(test['inq_last_6mths'].median(), inplace=True)\n",
    "\n",
    "train['open_acc'].fillna(train['open_acc'].median(), inplace=True)\n",
    "\n",
    "test['open_acc'].fillna(test['open_acc'].median(), inplace=True)\n",
    "\n",
    "train['pub_rec'].fillna(train['pub_rec'].median(), inplace=True)\n",
    "\n",
    "test['pub_rec'].fillna(test['pub_rec'].median(), inplace=True)\n",
    "\n",
    "train['total_acc'].fillna(train['total_acc'].median(), inplace=True)\n",
    "\n",
    "test['total_acc'].fillna(test['total_acc'].median(), inplace=True)\n",
    "\n",
    "train['acc_now_delinq'].fillna(train['acc_now_delinq'].median(), inplace=True)\n",
    "\n",
    "test['acc_now_delinq'].fillna(test['acc_now_delinq'].median(), inplace=True)\n",
    "\n"
   ]
  },
  {
   "cell_type": "code",
   "execution_count": 50,
   "metadata": {
    "id": "0QE2UamVr7_y"
   },
   "outputs": [
    {
     "data": {
      "text/plain": [
       "loan_amnt                     0\n",
       "term                          0\n",
       "int_rate                      0\n",
       "grade                         0\n",
       "emp_length                    0\n",
       "home_ownership                0\n",
       "annual_inc                    0\n",
       "verification_status           0\n",
       "purpose                       0\n",
       "addr_state                    0\n",
       "dti                           0\n",
       "delinq_2yrs                   0\n",
       "inq_last_6mths                0\n",
       "open_acc                      0\n",
       "pub_rec                       0\n",
       "revol_bal                     0\n",
       "revol_util                    0\n",
       "total_acc                     0\n",
       "initial_list_status           0\n",
       "collections_12_mths_ex_med    0\n",
       "acc_now_delinq                0\n",
       "tot_coll_amt                  0\n",
       "tot_cur_bal                   0\n",
       "total_rev_hi_lim              0\n",
       "loan_status                   0\n",
       "dtype: int64"
      ]
     },
     "execution_count": 50,
     "metadata": {},
     "output_type": "execute_result"
    }
   ],
   "source": [
    "train.isnull().sum()\n",
    "#shows that all the null values are filled"
   ]
  },
  {
   "cell_type": "markdown",
   "metadata": {
    "id": "xSwiw80bu8w4"
   },
   "source": [
    "**Create dummy variables for categorical columns**"
   ]
  },
  {
   "cell_type": "code",
   "execution_count": 51,
   "metadata": {
    "id": "BPKBktrfu8Vr"
   },
   "outputs": [],
   "source": [
    "#Create dummy variables for categorical columns\n",
    "cat_cols=['home_ownership','verification_status','initial_list_status']\n",
    "for col in cat_cols:\n",
    "    train=train.join(pd.get_dummies(train[col],drop_first=True))\n",
    "train.drop(cat_cols,axis=1,inplace=True)\n",
    "\n",
    "#Create dummy variables for categorical columns\n",
    "cat_cols=['home_ownership','verification_status','initial_list_status']\n",
    "for col in cat_cols:\n",
    "    test=test.join(pd.get_dummies(test[col],drop_first=True))\n",
    "test.drop(cat_cols,axis=1,inplace=True)\n",
    "\n"
   ]
  },
  {
   "cell_type": "markdown",
   "metadata": {
    "id": "N0b6m1MmvLGS"
   },
   "source": [
    "**Create dummy variables for object columns using label encoder**"
   ]
  },
  {
   "cell_type": "code",
   "execution_count": 52,
   "metadata": {
    "id": "NhDTnev-vQSM"
   },
   "outputs": [],
   "source": [
    "# Import label encoder \n",
    "from sklearn import preprocessing \n",
    "  \n",
    "# label_encoder object knows how to understand word labels. \n",
    "label_encoder = preprocessing.LabelEncoder() \n",
    "  \n",
    "# Encode labels in column 'species'. \n",
    "train['grade']= label_encoder.fit_transform(train['grade'])\n",
    "train['purpose']= label_encoder.fit_transform(train['purpose'])\n",
    "train['addr_state']= label_encoder.fit_transform(train['addr_state'])\n",
    "\n",
    "test['grade']= label_encoder.fit_transform(test['grade'])\n",
    "test['purpose']= label_encoder.fit_transform(test['purpose'])\n",
    "test['addr_state']= label_encoder.fit_transform(test['addr_state'])\n",
    "\n",
    "  "
   ]
  },
  {
   "cell_type": "code",
   "execution_count": 53,
   "metadata": {
    "id": "Fnl3XEWgvqQS"
   },
   "outputs": [],
   "source": [
    "#Processed data stored in temporary \n",
    "train2=train.copy()\n",
    "test2=test.copy()"
   ]
  },
  {
   "cell_type": "code",
   "execution_count": 174,
   "metadata": {},
   "outputs": [],
   "source": [
    "train=train2.copy()\n",
    "test=test2.copy()"
   ]
  },
  {
   "cell_type": "markdown",
   "metadata": {
    "id": "VhNampCAsRJ_"
   },
   "source": [
    "## **Data Transformation**"
   ]
  },
  {
   "cell_type": "markdown",
   "metadata": {
    "id": "GtzazS8VsfG7"
   },
   "source": [
    "**Outliers** Outliers are detected using skew function as follows. If the skew is not between -1 to +1 then it is considered as outliers values"
   ]
  },
  {
   "cell_type": "code",
   "execution_count": 175,
   "metadata": {},
   "outputs": [
    {
     "name": "stdout",
     "output_type": "stream",
     "text": [
      "outlier detection for annual_inc\n"
     ]
    },
    {
     "data": {
      "image/png": "[encoded data removed]",
      "text/plain": [
       "<Figure size 1152x360 with 2 Axes>"
      ]
     },
     "metadata": {
      "needs_background": "light"
     },
     "output_type": "display_data"
    }
   ],
   "source": [
    "print(\"outlier detection for annual_inc\")\n",
    "plt.figure(1) \n",
    "plt.subplot(121) \n",
    "sns.distplot(train['annual_inc']) \n",
    "plt.subplot(122) \n",
    "train['annual_inc'].plot.box(figsize=(16,5)) \n",
    "plt.show()"
   ]
  },
  {
   "cell_type": "code",
   "execution_count": 176,
   "metadata": {},
   "outputs": [
    {
     "name": "stdout",
     "output_type": "stream",
     "text": [
      "44.776335643422435\n",
      "43.98946865278573\n"
     ]
    }
   ],
   "source": [
    "print(train['annual_inc'].skew())\n",
    "print(test['annual_inc'].skew())"
   ]
  },
  {
   "cell_type": "markdown",
   "metadata": {},
   "source": [
    "Before log transform, the skew value is 44.776  and 43.989 for train and test respectively which shows that there is outliers"
   ]
  },
  {
   "cell_type": "code",
   "execution_count": 177,
   "metadata": {},
   "outputs": [
    {
     "name": "stdout",
     "output_type": "stream",
     "text": [
      "0.21213391237628687\n"
     ]
    }
   ],
   "source": [
    "train[\"annual_inc\"] = train[\"annual_inc\"].map(lambda i: np.log(i) if i > 0 else 0) \n",
    "print(train['annual_inc'].skew())\n"
   ]
  },
  {
   "cell_type": "code",
   "execution_count": 178,
   "metadata": {},
   "outputs": [
    {
     "name": "stdout",
     "output_type": "stream",
     "text": [
      "0.15847735037710278\n"
     ]
    }
   ],
   "source": [
    "test[\"annual_inc\"] = test[\"annual_inc\"].map(lambda i: np.log(i) if i > 0 else 0)\n",
    "print(test['annual_inc'].skew())"
   ]
  },
  {
   "cell_type": "markdown",
   "metadata": {},
   "source": [
    "After the log transform, the skew value is between -1 to +1, hence the outliers are handled. same procedure is followed for all the columns"
   ]
  },
  {
   "cell_type": "code",
   "execution_count": 179,
   "metadata": {},
   "outputs": [
    {
     "name": "stdout",
     "output_type": "stream",
     "text": [
      "after log transform\n"
     ]
    },
    {
     "data": {
      "image/png": "[encoded data removed]",
      "text/plain": [
       "<Figure size 1152x360 with 2 Axes>"
      ]
     },
     "metadata": {
      "needs_background": "light"
     },
     "output_type": "display_data"
    }
   ],
   "source": [
    "print(\"after log transform\")\n",
    "plt.figure(1) \n",
    "plt.subplot(121) \n",
    "sns.distplot(train['annual_inc']) \n",
    "plt.subplot(122) \n",
    "train['annual_inc'].plot.box(figsize=(16,5)) \n",
    "plt.show()"
   ]
  },
  {
   "cell_type": "code",
   "execution_count": 180,
   "metadata": {},
   "outputs": [
    {
     "name": "stdout",
     "output_type": "stream",
     "text": [
      "0.681240301625289\n",
      "0.6823506790002728\n"
     ]
    }
   ],
   "source": [
    "print(train['loan_amnt'].skew())\n",
    "print(test['loan_amnt'].skew())"
   ]
  },
  {
   "cell_type": "code",
   "execution_count": 181,
   "metadata": {},
   "outputs": [
    {
     "name": "stdout",
     "output_type": "stream",
     "text": [
      "5.373390129655151\n",
      "5.621603526092511\n"
     ]
    }
   ],
   "source": [
    "print(train['delinq_2yrs'].skew())\n",
    "print(test['delinq_2yrs'].skew())"
   ]
  },
  {
   "cell_type": "code",
   "execution_count": 184,
   "metadata": {},
   "outputs": [
    {
     "name": "stdout",
     "output_type": "stream",
     "text": [
      "0.376472448843127\n"
     ]
    }
   ],
   "source": [
    "train[\"delinq_2yrs\"] = train[\"delinq_2yrs\"].map(lambda i: np.log(i) if i > 0 else 0) \n",
    "print(train['delinq_2yrs'].skew())"
   ]
  },
  {
   "cell_type": "code",
   "execution_count": 185,
   "metadata": {},
   "outputs": [
    {
     "name": "stdout",
     "output_type": "stream",
     "text": [
      "0.44115239391993954\n"
     ]
    }
   ],
   "source": [
    "test[\"delinq_2yrs\"] = test[\"delinq_2yrs\"].map(lambda i: np.log(i) if i > 0 else 0) \n",
    "print(test['delinq_2yrs'].skew())"
   ]
  },
  {
   "cell_type": "code",
   "execution_count": 186,
   "metadata": {},
   "outputs": [
    {
     "name": "stdout",
     "output_type": "stream",
     "text": [
      "0.490831580461498\n",
      "0.49899293183931126\n"
     ]
    }
   ],
   "source": [
    "print(train['int_rate'].skew())\n",
    "print(test['int_rate'].skew())"
   ]
  },
  {
   "cell_type": "code",
   "execution_count": 187,
   "metadata": {},
   "outputs": [
    {
     "name": "stdout",
     "output_type": "stream",
     "text": [
      "2.472646469180541\n",
      "2.45299628779018\n"
     ]
    }
   ],
   "source": [
    "print(train['purpose'].skew())\n",
    "print(test['purpose'].skew())"
   ]
  },
  {
   "cell_type": "code",
   "execution_count": 188,
   "metadata": {},
   "outputs": [
    {
     "name": "stdout",
     "output_type": "stream",
     "text": [
      "1.101645881820408\n"
     ]
    }
   ],
   "source": [
    "train[\"purpose\"] = train[\"purpose\"].map(lambda i: np.log(i) if i > 0 else 0) \n",
    "print(train['purpose'].skew())"
   ]
  },
  {
   "cell_type": "code",
   "execution_count": 189,
   "metadata": {},
   "outputs": [
    {
     "name": "stdout",
     "output_type": "stream",
     "text": [
      "1.0969967995022731\n"
     ]
    }
   ],
   "source": [
    "test[\"purpose\"] = test[\"purpose\"].map(lambda i: np.log(i) if i > 0 else 0) \n",
    "print(test['purpose'].skew())"
   ]
  },
  {
   "cell_type": "code",
   "execution_count": 190,
   "metadata": {},
   "outputs": [
    {
     "name": "stdout",
     "output_type": "stream",
     "text": [
      "2.0343748749182105\n",
      "2.2183753299881905\n"
     ]
    }
   ],
   "source": [
    "print(train['inq_last_6mths'].skew())\n",
    "print(test['inq_last_6mths'].skew())"
   ]
  },
  {
   "cell_type": "code",
   "execution_count": 193,
   "metadata": {},
   "outputs": [
    {
     "name": "stdout",
     "output_type": "stream",
     "text": [
      "-1.0737182400210534\n"
     ]
    }
   ],
   "source": [
    "train[\"inq_last_6mths\"] = train[\"inq_last_6mths\"].map(lambda i: np.log(i) if i > 0 else 0) \n",
    "print(train['inq_last_6mths'].skew())"
   ]
  },
  {
   "cell_type": "code",
   "execution_count": 194,
   "metadata": {},
   "outputs": [
    {
     "name": "stdout",
     "output_type": "stream",
     "text": [
      "-1.0438613798441694\n"
     ]
    }
   ],
   "source": [
    "test[\"inq_last_6mths\"] = test[\"inq_last_6mths\"].map(lambda i: np.log(i) if i > 0 else 0) \n",
    "print(test['inq_last_6mths'].skew())"
   ]
  },
  {
   "cell_type": "code",
   "execution_count": 196,
   "metadata": {},
   "outputs": [
    {
     "name": "stdout",
     "output_type": "stream",
     "text": [
      "15.318404463982228\n",
      "10.10732588083377\n"
     ]
    }
   ],
   "source": [
    "print(train['pub_rec'].skew())\n",
    "print(test['pub_rec'].skew())"
   ]
  },
  {
   "cell_type": "code",
   "execution_count": 198,
   "metadata": {},
   "outputs": [
    {
     "name": "stdout",
     "output_type": "stream",
     "text": [
      "-1.642212688343645\n"
     ]
    }
   ],
   "source": [
    "train[\"pub_rec\"] = train[\"pub_rec\"].map(lambda i: np.log(i) if i > 0 else 0) \n",
    "print(train['pub_rec'].skew())"
   ]
  },
  {
   "cell_type": "code",
   "execution_count": 200,
   "metadata": {},
   "outputs": [
    {
     "name": "stdout",
     "output_type": "stream",
     "text": [
      "-1.4785271293925915\n"
     ]
    }
   ],
   "source": [
    "test[\"pub_rec\"] = test[\"pub_rec\"].map(lambda i: np.log(i) if i > 0 else 0) \n",
    "print(test['pub_rec'].skew())"
   ]
  },
  {
   "cell_type": "code",
   "execution_count": 201,
   "metadata": {},
   "outputs": [
    {
     "name": "stdout",
     "output_type": "stream",
     "text": [
      "15.98021197176717\n",
      "15.903056617487701\n"
     ]
    }
   ],
   "source": [
    "print(train['revol_bal'].skew())\n",
    "print(test['revol_bal'].skew())"
   ]
  },
  {
   "cell_type": "code",
   "execution_count": 202,
   "metadata": {},
   "outputs": [
    {
     "name": "stdout",
     "output_type": "stream",
     "text": [
      "-2.607711138828537\n"
     ]
    }
   ],
   "source": [
    "train[\"revol_bal\"] = train[\"revol_bal\"].map(lambda i: np.log(i) if i > 0 else 0) \n",
    "print(train['revol_bal'].skew())"
   ]
  },
  {
   "cell_type": "code",
   "execution_count": 203,
   "metadata": {},
   "outputs": [
    {
     "name": "stdout",
     "output_type": "stream",
     "text": [
      "-2.628054853473467\n"
     ]
    }
   ],
   "source": [
    "test[\"revol_bal\"] = test[\"revol_bal\"].map(lambda i: np.log(i) if i > 0 else 0) \n",
    "print(test['revol_bal'].skew())"
   ]
  },
  {
   "cell_type": "code",
   "execution_count": 221,
   "metadata": {},
   "outputs": [
    {
     "name": "stdout",
     "output_type": "stream",
     "text": [
      "3.138080512287113\n",
      "2.8941887344578068\n"
     ]
    }
   ],
   "source": [
    "print(train['tot_cur_bal'].skew())\n",
    "print(test['tot_cur_bal'].skew())"
   ]
  },
  {
   "cell_type": "code",
   "execution_count": 222,
   "metadata": {},
   "outputs": [
    {
     "name": "stdout",
     "output_type": "stream",
     "text": [
      "-0.651457985665779\n"
     ]
    }
   ],
   "source": [
    "train[\"tot_cur_bal\"] = train[\"tot_cur_bal\"].map(lambda i: np.log(i) if i > 0 else 0) \n",
    "print(train['tot_cur_bal'].skew())"
   ]
  },
  {
   "cell_type": "code",
   "execution_count": 223,
   "metadata": {},
   "outputs": [
    {
     "name": "stdout",
     "output_type": "stream",
     "text": [
      "-0.6431135484837623\n"
     ]
    }
   ],
   "source": [
    "test[\"tot_cur_bal\"] = test[\"tot_cur_bal\"].map(lambda i: np.log(i) if i > 0 else 0) \n",
    "print(test['tot_cur_bal'].skew())"
   ]
  },
  {
   "cell_type": "code",
   "execution_count": 228,
   "metadata": {},
   "outputs": [
    {
     "name": "stdout",
     "output_type": "stream",
     "text": [
      "80.22190359162674\n",
      "68.07371548924732\n"
     ]
    }
   ],
   "source": [
    "print(train['total_rev_hi_lim'].skew())\n",
    "print(test['total_rev_hi_lim'].skew())"
   ]
  },
  {
   "cell_type": "code",
   "execution_count": 229,
   "metadata": {},
   "outputs": [
    {
     "name": "stdout",
     "output_type": "stream",
     "text": [
      "-0.7866143006574323\n"
     ]
    }
   ],
   "source": [
    "train[\"total_rev_hi_lim\"] = train[\"total_rev_hi_lim\"].map(lambda i: np.log(i) if i > 0 else 0) \n",
    "print(train['total_rev_hi_lim'].skew())"
   ]
  },
  {
   "cell_type": "code",
   "execution_count": 230,
   "metadata": {},
   "outputs": [
    {
     "name": "stdout",
     "output_type": "stream",
     "text": [
      "-0.8687022587596586\n"
     ]
    }
   ],
   "source": [
    "test[\"total_rev_hi_lim\"] = test[\"total_rev_hi_lim\"].map(lambda i: np.log(i) if i > 0 else 0) \n",
    "print(test['total_rev_hi_lim'].skew())"
   ]
  },
  {
   "cell_type": "markdown",
   "metadata": {},
   "source": [
    "collections_12_mths_ex_med, tot_coll_amt, acc_now_delinq have outliers though log transform is applied. so dropped"
   ]
  },
  {
   "cell_type": "code",
   "execution_count": 231,
   "metadata": {},
   "outputs": [],
   "source": [
    "train.drop(['collections_12_mths_ex_med','tot_coll_amt','acc_now_delinq'],axis=1,inplace=True)\n",
    "test.drop(['collections_12_mths_ex_med','tot_coll_amt','acc_now_delinq'],axis=1,inplace=True)"
   ]
  },
  {
   "cell_type": "code",
   "execution_count": 232,
   "metadata": {
    "id": "Fz48g8AXLzt5"
   },
   "outputs": [
    {
     "data": {
      "text/plain": [
       "(532428, 24)"
      ]
     },
     "execution_count": 232,
     "metadata": {},
     "output_type": "execute_result"
    }
   ],
   "source": [
    "train.shape"
   ]
  },
  {
   "cell_type": "code",
   "execution_count": 233,
   "metadata": {},
   "outputs": [
    {
     "data": {
      "text/plain": [
       "(354951, 23)"
      ]
     },
     "execution_count": 233,
     "metadata": {},
     "output_type": "execute_result"
    }
   ],
   "source": [
    "test.shape"
   ]
  },
  {
   "cell_type": "code",
   "execution_count": 234,
   "metadata": {
    "id": "zJ-A2c0nvdBN"
   },
   "outputs": [
    {
     "data": {
      "text/html": [
       "<div>\n",
       "<style scoped>\n",
       "    .dataframe tbody tr th:only-of-type {\n",
       "        vertical-align: middle;\n",
       "    }\n",
       "\n",
       "    .dataframe tbody tr th {\n",
       "        vertical-align: top;\n",
       "    }\n",
       "\n",
       "    .dataframe thead th {\n",
       "        text-align: right;\n",
       "    }\n",
       "</style>\n",
       "<table border=\"1\" class=\"dataframe\">\n",
       "  <thead>\n",
       "    <tr style=\"text-align: right;\">\n",
       "      <th></th>\n",
       "      <th>loan_amnt</th>\n",
       "      <th>term</th>\n",
       "      <th>int_rate</th>\n",
       "      <th>grade</th>\n",
       "      <th>emp_length</th>\n",
       "      <th>annual_inc</th>\n",
       "      <th>purpose</th>\n",
       "      <th>addr_state</th>\n",
       "      <th>dti</th>\n",
       "      <th>delinq_2yrs</th>\n",
       "      <th>...</th>\n",
       "      <th>revol_util</th>\n",
       "      <th>total_acc</th>\n",
       "      <th>tot_cur_bal</th>\n",
       "      <th>total_rev_hi_lim</th>\n",
       "      <th>loan_status</th>\n",
       "      <th>OWN</th>\n",
       "      <th>RENT</th>\n",
       "      <th>Source Verified</th>\n",
       "      <th>Verified</th>\n",
       "      <th>w</th>\n",
       "    </tr>\n",
       "  </thead>\n",
       "  <tbody>\n",
       "    <tr>\n",
       "      <th>0</th>\n",
       "      <td>14350</td>\n",
       "      <td>36</td>\n",
       "      <td>3</td>\n",
       "      <td>4</td>\n",
       "      <td>9.0</td>\n",
       "      <td>10.264652</td>\n",
       "      <td>0.693147</td>\n",
       "      <td>9</td>\n",
       "      <td>33.88</td>\n",
       "      <td>0.0</td>\n",
       "      <td>...</td>\n",
       "      <td>73.1</td>\n",
       "      <td>28.0</td>\n",
       "      <td>10.264618</td>\n",
       "      <td>10.335270</td>\n",
       "      <td>0</td>\n",
       "      <td>1</td>\n",
       "      <td>0</td>\n",
       "      <td>1</td>\n",
       "      <td>0</td>\n",
       "      <td>0</td>\n",
       "    </tr>\n",
       "    <tr>\n",
       "      <th>1</th>\n",
       "      <td>4800</td>\n",
       "      <td>36</td>\n",
       "      <td>2</td>\n",
       "      <td>1</td>\n",
       "      <td>0.0</td>\n",
       "      <td>11.082143</td>\n",
       "      <td>1.386294</td>\n",
       "      <td>20</td>\n",
       "      <td>3.64</td>\n",
       "      <td>0.0</td>\n",
       "      <td>...</td>\n",
       "      <td>23.2</td>\n",
       "      <td>13.0</td>\n",
       "      <td>9.207737</td>\n",
       "      <td>10.401228</td>\n",
       "      <td>0</td>\n",
       "      <td>0</td>\n",
       "      <td>0</td>\n",
       "      <td>1</td>\n",
       "      <td>0</td>\n",
       "      <td>1</td>\n",
       "    </tr>\n",
       "    <tr>\n",
       "      <th>2</th>\n",
       "      <td>10000</td>\n",
       "      <td>36</td>\n",
       "      <td>1</td>\n",
       "      <td>0</td>\n",
       "      <td>2.0</td>\n",
       "      <td>10.714418</td>\n",
       "      <td>0.693147</td>\n",
       "      <td>35</td>\n",
       "      <td>18.42</td>\n",
       "      <td>0.0</td>\n",
       "      <td>...</td>\n",
       "      <td>31.2</td>\n",
       "      <td>19.0</td>\n",
       "      <td>10.553075</td>\n",
       "      <td>10.460242</td>\n",
       "      <td>0</td>\n",
       "      <td>1</td>\n",
       "      <td>0</td>\n",
       "      <td>0</td>\n",
       "      <td>0</td>\n",
       "      <td>1</td>\n",
       "    </tr>\n",
       "    <tr>\n",
       "      <th>3</th>\n",
       "      <td>15000</td>\n",
       "      <td>36</td>\n",
       "      <td>3</td>\n",
       "      <td>3</td>\n",
       "      <td>10.0</td>\n",
       "      <td>11.561716</td>\n",
       "      <td>0.693147</td>\n",
       "      <td>45</td>\n",
       "      <td>14.97</td>\n",
       "      <td>0.0</td>\n",
       "      <td>...</td>\n",
       "      <td>55.5</td>\n",
       "      <td>21.0</td>\n",
       "      <td>10.925291</td>\n",
       "      <td>10.114559</td>\n",
       "      <td>0</td>\n",
       "      <td>0</td>\n",
       "      <td>1</td>\n",
       "      <td>0</td>\n",
       "      <td>0</td>\n",
       "      <td>0</td>\n",
       "    </tr>\n",
       "    <tr>\n",
       "      <th>4</th>\n",
       "      <td>16000</td>\n",
       "      <td>36</td>\n",
       "      <td>2</td>\n",
       "      <td>1</td>\n",
       "      <td>10.0</td>\n",
       "      <td>10.858999</td>\n",
       "      <td>0.000000</td>\n",
       "      <td>4</td>\n",
       "      <td>20.16</td>\n",
       "      <td>0.0</td>\n",
       "      <td>...</td>\n",
       "      <td>76.2</td>\n",
       "      <td>27.0</td>\n",
       "      <td>10.761280</td>\n",
       "      <td>10.758605</td>\n",
       "      <td>0</td>\n",
       "      <td>0</td>\n",
       "      <td>1</td>\n",
       "      <td>0</td>\n",
       "      <td>1</td>\n",
       "      <td>1</td>\n",
       "    </tr>\n",
       "  </tbody>\n",
       "</table>\n",
       "<p>5 rows × 24 columns</p>\n",
       "</div>"
      ],
      "text/plain": [
       "   loan_amnt  term  int_rate  grade  emp_length  annual_inc   purpose  \\\n",
       "0      14350    36         3      4         9.0   10.264652  0.693147   \n",
       "1       4800    36         2      1         0.0   11.082143  1.386294   \n",
       "2      10000    36         1      0         2.0   10.714418  0.693147   \n",
       "3      15000    36         3      3        10.0   11.561716  0.693147   \n",
       "4      16000    36         2      1        10.0   10.858999  0.000000   \n",
       "\n",
       "   addr_state    dti  delinq_2yrs  ...  revol_util  total_acc  tot_cur_bal  \\\n",
       "0           9  33.88          0.0  ...        73.1       28.0    10.264618   \n",
       "1          20   3.64          0.0  ...        23.2       13.0     9.207737   \n",
       "2          35  18.42          0.0  ...        31.2       19.0    10.553075   \n",
       "3          45  14.97          0.0  ...        55.5       21.0    10.925291   \n",
       "4           4  20.16          0.0  ...        76.2       27.0    10.761280   \n",
       "\n",
       "   total_rev_hi_lim  loan_status  OWN  RENT  Source Verified  Verified  w  \n",
       "0         10.335270            0    1     0                1         0  0  \n",
       "1         10.401228            0    0     0                1         0  1  \n",
       "2         10.460242            0    1     0                0         0  1  \n",
       "3         10.114559            0    0     1                0         0  0  \n",
       "4         10.758605            0    0     1                0         1  1  \n",
       "\n",
       "[5 rows x 24 columns]"
      ]
     },
     "execution_count": 234,
     "metadata": {},
     "output_type": "execute_result"
    }
   ],
   "source": [
    "train.head()"
   ]
  },
  {
   "cell_type": "code",
   "execution_count": 235,
   "metadata": {
    "id": "ighsW97Zvf6q"
   },
   "outputs": [
    {
     "data": {
      "text/html": [
       "<div>\n",
       "<style scoped>\n",
       "    .dataframe tbody tr th:only-of-type {\n",
       "        vertical-align: middle;\n",
       "    }\n",
       "\n",
       "    .dataframe tbody tr th {\n",
       "        vertical-align: top;\n",
       "    }\n",
       "\n",
       "    .dataframe thead th {\n",
       "        text-align: right;\n",
       "    }\n",
       "</style>\n",
       "<table border=\"1\" class=\"dataframe\">\n",
       "  <thead>\n",
       "    <tr style=\"text-align: right;\">\n",
       "      <th></th>\n",
       "      <th>loan_amnt</th>\n",
       "      <th>term</th>\n",
       "      <th>int_rate</th>\n",
       "      <th>grade</th>\n",
       "      <th>emp_length</th>\n",
       "      <th>annual_inc</th>\n",
       "      <th>purpose</th>\n",
       "      <th>addr_state</th>\n",
       "      <th>dti</th>\n",
       "      <th>delinq_2yrs</th>\n",
       "      <th>...</th>\n",
       "      <th>revol_bal</th>\n",
       "      <th>revol_util</th>\n",
       "      <th>total_acc</th>\n",
       "      <th>tot_cur_bal</th>\n",
       "      <th>total_rev_hi_lim</th>\n",
       "      <th>OWN</th>\n",
       "      <th>RENT</th>\n",
       "      <th>Source Verified</th>\n",
       "      <th>Verified</th>\n",
       "      <th>w</th>\n",
       "    </tr>\n",
       "  </thead>\n",
       "  <tbody>\n",
       "    <tr>\n",
       "      <th>0</th>\n",
       "      <td>14000</td>\n",
       "      <td>60</td>\n",
       "      <td>3</td>\n",
       "      <td>2</td>\n",
       "      <td>4.0</td>\n",
       "      <td>11.205041</td>\n",
       "      <td>0.000000</td>\n",
       "      <td>35</td>\n",
       "      <td>28.65</td>\n",
       "      <td>0.0</td>\n",
       "      <td>...</td>\n",
       "      <td>10.303203</td>\n",
       "      <td>65.3</td>\n",
       "      <td>53.0</td>\n",
       "      <td>11.353109</td>\n",
       "      <td>10.729854</td>\n",
       "      <td>0</td>\n",
       "      <td>1</td>\n",
       "      <td>1</td>\n",
       "      <td>0</td>\n",
       "      <td>0</td>\n",
       "    </tr>\n",
       "    <tr>\n",
       "      <th>1</th>\n",
       "      <td>16000</td>\n",
       "      <td>60</td>\n",
       "      <td>1</td>\n",
       "      <td>1</td>\n",
       "      <td>5.0</td>\n",
       "      <td>11.561716</td>\n",
       "      <td>1.791759</td>\n",
       "      <td>27</td>\n",
       "      <td>31.19</td>\n",
       "      <td>0.0</td>\n",
       "      <td>...</td>\n",
       "      <td>8.333511</td>\n",
       "      <td>19.4</td>\n",
       "      <td>63.0</td>\n",
       "      <td>13.005809</td>\n",
       "      <td>9.971146</td>\n",
       "      <td>0</td>\n",
       "      <td>0</td>\n",
       "      <td>1</td>\n",
       "      <td>0</td>\n",
       "      <td>1</td>\n",
       "    </tr>\n",
       "    <tr>\n",
       "      <th>2</th>\n",
       "      <td>11050</td>\n",
       "      <td>60</td>\n",
       "      <td>3</td>\n",
       "      <td>3</td>\n",
       "      <td>10.0</td>\n",
       "      <td>11.039717</td>\n",
       "      <td>0.693147</td>\n",
       "      <td>16</td>\n",
       "      <td>21.73</td>\n",
       "      <td>0.0</td>\n",
       "      <td>...</td>\n",
       "      <td>9.397981</td>\n",
       "      <td>74.0</td>\n",
       "      <td>20.0</td>\n",
       "      <td>11.568710</td>\n",
       "      <td>9.698920</td>\n",
       "      <td>0</td>\n",
       "      <td>1</td>\n",
       "      <td>0</td>\n",
       "      <td>0</td>\n",
       "      <td>1</td>\n",
       "    </tr>\n",
       "    <tr>\n",
       "      <th>3</th>\n",
       "      <td>35000</td>\n",
       "      <td>60</td>\n",
       "      <td>2</td>\n",
       "      <td>2</td>\n",
       "      <td>10.0</td>\n",
       "      <td>11.918391</td>\n",
       "      <td>0.693147</td>\n",
       "      <td>4</td>\n",
       "      <td>17.27</td>\n",
       "      <td>0.0</td>\n",
       "      <td>...</td>\n",
       "      <td>10.390502</td>\n",
       "      <td>45.0</td>\n",
       "      <td>26.0</td>\n",
       "      <td>12.567314</td>\n",
       "      <td>11.189962</td>\n",
       "      <td>1</td>\n",
       "      <td>0</td>\n",
       "      <td>1</td>\n",
       "      <td>0</td>\n",
       "      <td>0</td>\n",
       "    </tr>\n",
       "    <tr>\n",
       "      <th>4</th>\n",
       "      <td>6500</td>\n",
       "      <td>36</td>\n",
       "      <td>1</td>\n",
       "      <td>0</td>\n",
       "      <td>5.0</td>\n",
       "      <td>10.858999</td>\n",
       "      <td>1.791759</td>\n",
       "      <td>18</td>\n",
       "      <td>20.19</td>\n",
       "      <td>0.0</td>\n",
       "      <td>...</td>\n",
       "      <td>8.543446</td>\n",
       "      <td>19.2</td>\n",
       "      <td>36.0</td>\n",
       "      <td>12.364264</td>\n",
       "      <td>10.192419</td>\n",
       "      <td>0</td>\n",
       "      <td>0</td>\n",
       "      <td>0</td>\n",
       "      <td>0</td>\n",
       "      <td>1</td>\n",
       "    </tr>\n",
       "  </tbody>\n",
       "</table>\n",
       "<p>5 rows × 23 columns</p>\n",
       "</div>"
      ],
      "text/plain": [
       "   loan_amnt  term  int_rate  grade  emp_length  annual_inc   purpose  \\\n",
       "0      14000    60         3      2         4.0   11.205041  0.000000   \n",
       "1      16000    60         1      1         5.0   11.561716  1.791759   \n",
       "2      11050    60         3      3        10.0   11.039717  0.693147   \n",
       "3      35000    60         2      2        10.0   11.918391  0.693147   \n",
       "4       6500    36         1      0         5.0   10.858999  1.791759   \n",
       "\n",
       "   addr_state    dti  delinq_2yrs  ...  revol_bal  revol_util  total_acc  \\\n",
       "0          35  28.65          0.0  ...  10.303203        65.3       53.0   \n",
       "1          27  31.19          0.0  ...   8.333511        19.4       63.0   \n",
       "2          16  21.73          0.0  ...   9.397981        74.0       20.0   \n",
       "3           4  17.27          0.0  ...  10.390502        45.0       26.0   \n",
       "4          18  20.19          0.0  ...   8.543446        19.2       36.0   \n",
       "\n",
       "   tot_cur_bal  total_rev_hi_lim  OWN  RENT  Source Verified  Verified  w  \n",
       "0    11.353109         10.729854    0     1                1         0  0  \n",
       "1    13.005809          9.971146    0     0                1         0  1  \n",
       "2    11.568710          9.698920    0     1                0         0  1  \n",
       "3    12.567314         11.189962    1     0                1         0  0  \n",
       "4    12.364264         10.192419    0     0                0         0  1  \n",
       "\n",
       "[5 rows x 23 columns]"
      ]
     },
     "execution_count": 235,
     "metadata": {},
     "output_type": "execute_result"
    }
   ],
   "source": [
    "test.head()"
   ]
  },
  {
   "cell_type": "markdown",
   "metadata": {
    "id": "67SDQOsBuiAw"
   },
   "source": [
    "## **Modeling**"
   ]
  },
  {
   "cell_type": "code",
   "execution_count": 236,
   "metadata": {
    "id": "shk_9u5PdY12"
   },
   "outputs": [],
   "source": [
    "target=train['loan_status']"
   ]
  },
  {
   "cell_type": "code",
   "execution_count": 237,
   "metadata": {
    "id": "mryPhST8dYy4"
   },
   "outputs": [],
   "source": [
    "data=train.copy()\n",
    "\n",
    "data.drop(['loan_status'],axis=1,inplace=True)"
   ]
  },
  {
   "cell_type": "code",
   "execution_count": 240,
   "metadata": {
    "id": "P0U2pzAOwXKw"
   },
   "outputs": [
    {
     "data": {
      "text/plain": [
       "(532428, 23)"
      ]
     },
     "execution_count": 240,
     "metadata": {},
     "output_type": "execute_result"
    }
   ],
   "source": [
    "data.shape"
   ]
  },
  {
   "cell_type": "code",
   "execution_count": 239,
   "metadata": {
    "id": "xa_xoVrqdYuW"
   },
   "outputs": [
    {
     "data": {
      "text/html": [
       "<div>\n",
       "<style scoped>\n",
       "    .dataframe tbody tr th:only-of-type {\n",
       "        vertical-align: middle;\n",
       "    }\n",
       "\n",
       "    .dataframe tbody tr th {\n",
       "        vertical-align: top;\n",
       "    }\n",
       "\n",
       "    .dataframe thead th {\n",
       "        text-align: right;\n",
       "    }\n",
       "</style>\n",
       "<table border=\"1\" class=\"dataframe\">\n",
       "  <thead>\n",
       "    <tr style=\"text-align: right;\">\n",
       "      <th></th>\n",
       "      <th>loan_amnt</th>\n",
       "      <th>term</th>\n",
       "      <th>int_rate</th>\n",
       "      <th>grade</th>\n",
       "      <th>emp_length</th>\n",
       "      <th>annual_inc</th>\n",
       "      <th>purpose</th>\n",
       "      <th>addr_state</th>\n",
       "      <th>dti</th>\n",
       "      <th>delinq_2yrs</th>\n",
       "      <th>...</th>\n",
       "      <th>revol_bal</th>\n",
       "      <th>revol_util</th>\n",
       "      <th>total_acc</th>\n",
       "      <th>tot_cur_bal</th>\n",
       "      <th>total_rev_hi_lim</th>\n",
       "      <th>OWN</th>\n",
       "      <th>RENT</th>\n",
       "      <th>Source Verified</th>\n",
       "      <th>Verified</th>\n",
       "      <th>w</th>\n",
       "    </tr>\n",
       "  </thead>\n",
       "  <tbody>\n",
       "    <tr>\n",
       "      <th>0</th>\n",
       "      <td>14350</td>\n",
       "      <td>36</td>\n",
       "      <td>3</td>\n",
       "      <td>4</td>\n",
       "      <td>9.0</td>\n",
       "      <td>10.264652</td>\n",
       "      <td>0.693147</td>\n",
       "      <td>9</td>\n",
       "      <td>33.88</td>\n",
       "      <td>0.0</td>\n",
       "      <td>...</td>\n",
       "      <td>10.021937</td>\n",
       "      <td>73.1</td>\n",
       "      <td>28.0</td>\n",
       "      <td>10.264618</td>\n",
       "      <td>10.335270</td>\n",
       "      <td>1</td>\n",
       "      <td>0</td>\n",
       "      <td>1</td>\n",
       "      <td>0</td>\n",
       "      <td>0</td>\n",
       "    </tr>\n",
       "    <tr>\n",
       "      <th>1</th>\n",
       "      <td>4800</td>\n",
       "      <td>36</td>\n",
       "      <td>2</td>\n",
       "      <td>1</td>\n",
       "      <td>0.0</td>\n",
       "      <td>11.082143</td>\n",
       "      <td>1.386294</td>\n",
       "      <td>20</td>\n",
       "      <td>3.64</td>\n",
       "      <td>0.0</td>\n",
       "      <td>...</td>\n",
       "      <td>8.939056</td>\n",
       "      <td>23.2</td>\n",
       "      <td>13.0</td>\n",
       "      <td>9.207737</td>\n",
       "      <td>10.401228</td>\n",
       "      <td>0</td>\n",
       "      <td>0</td>\n",
       "      <td>1</td>\n",
       "      <td>0</td>\n",
       "      <td>1</td>\n",
       "    </tr>\n",
       "    <tr>\n",
       "      <th>2</th>\n",
       "      <td>10000</td>\n",
       "      <td>36</td>\n",
       "      <td>1</td>\n",
       "      <td>0</td>\n",
       "      <td>2.0</td>\n",
       "      <td>10.714418</td>\n",
       "      <td>0.693147</td>\n",
       "      <td>35</td>\n",
       "      <td>18.42</td>\n",
       "      <td>0.0</td>\n",
       "      <td>...</td>\n",
       "      <td>9.294406</td>\n",
       "      <td>31.2</td>\n",
       "      <td>19.0</td>\n",
       "      <td>10.553075</td>\n",
       "      <td>10.460242</td>\n",
       "      <td>1</td>\n",
       "      <td>0</td>\n",
       "      <td>0</td>\n",
       "      <td>0</td>\n",
       "      <td>1</td>\n",
       "    </tr>\n",
       "    <tr>\n",
       "      <th>3</th>\n",
       "      <td>15000</td>\n",
       "      <td>36</td>\n",
       "      <td>3</td>\n",
       "      <td>3</td>\n",
       "      <td>10.0</td>\n",
       "      <td>11.561716</td>\n",
       "      <td>0.693147</td>\n",
       "      <td>45</td>\n",
       "      <td>14.97</td>\n",
       "      <td>0.0</td>\n",
       "      <td>...</td>\n",
       "      <td>9.526027</td>\n",
       "      <td>55.5</td>\n",
       "      <td>21.0</td>\n",
       "      <td>10.925291</td>\n",
       "      <td>10.114559</td>\n",
       "      <td>0</td>\n",
       "      <td>1</td>\n",
       "      <td>0</td>\n",
       "      <td>0</td>\n",
       "      <td>0</td>\n",
       "    </tr>\n",
       "    <tr>\n",
       "      <th>4</th>\n",
       "      <td>16000</td>\n",
       "      <td>36</td>\n",
       "      <td>2</td>\n",
       "      <td>1</td>\n",
       "      <td>10.0</td>\n",
       "      <td>10.858999</td>\n",
       "      <td>0.000000</td>\n",
       "      <td>4</td>\n",
       "      <td>20.16</td>\n",
       "      <td>0.0</td>\n",
       "      <td>...</td>\n",
       "      <td>10.486680</td>\n",
       "      <td>76.2</td>\n",
       "      <td>27.0</td>\n",
       "      <td>10.761280</td>\n",
       "      <td>10.758605</td>\n",
       "      <td>0</td>\n",
       "      <td>1</td>\n",
       "      <td>0</td>\n",
       "      <td>1</td>\n",
       "      <td>1</td>\n",
       "    </tr>\n",
       "  </tbody>\n",
       "</table>\n",
       "<p>5 rows × 23 columns</p>\n",
       "</div>"
      ],
      "text/plain": [
       "   loan_amnt  term  int_rate  grade  emp_length  annual_inc   purpose  \\\n",
       "0      14350    36         3      4         9.0   10.264652  0.693147   \n",
       "1       4800    36         2      1         0.0   11.082143  1.386294   \n",
       "2      10000    36         1      0         2.0   10.714418  0.693147   \n",
       "3      15000    36         3      3        10.0   11.561716  0.693147   \n",
       "4      16000    36         2      1        10.0   10.858999  0.000000   \n",
       "\n",
       "   addr_state    dti  delinq_2yrs  ...  revol_bal  revol_util  total_acc  \\\n",
       "0           9  33.88          0.0  ...  10.021937        73.1       28.0   \n",
       "1          20   3.64          0.0  ...   8.939056        23.2       13.0   \n",
       "2          35  18.42          0.0  ...   9.294406        31.2       19.0   \n",
       "3          45  14.97          0.0  ...   9.526027        55.5       21.0   \n",
       "4           4  20.16          0.0  ...  10.486680        76.2       27.0   \n",
       "\n",
       "   tot_cur_bal  total_rev_hi_lim  OWN  RENT  Source Verified  Verified  w  \n",
       "0    10.264618         10.335270    1     0                1         0  0  \n",
       "1     9.207737         10.401228    0     0                1         0  1  \n",
       "2    10.553075         10.460242    1     0                0         0  1  \n",
       "3    10.925291         10.114559    0     1                0         0  0  \n",
       "4    10.761280         10.758605    0     1                0         1  1  \n",
       "\n",
       "[5 rows x 23 columns]"
      ]
     },
     "execution_count": 239,
     "metadata": {},
     "output_type": "execute_result"
    }
   ],
   "source": [
    "data.head()"
   ]
  },
  {
   "cell_type": "markdown",
   "metadata": {
    "id": "o2yjzFhSwuBp"
   },
   "source": [
    "**Logistics Regression**"
   ]
  },
  {
   "cell_type": "code",
   "execution_count": 241,
   "metadata": {
    "id": "nJsT-5VRSt-Q"
   },
   "outputs": [],
   "source": [
    "from sklearn.model_selection import train_test_split\n",
    "from sklearn.linear_model import LogisticRegression\n",
    "from sklearn.metrics import classification_report\n",
    "from sklearn.metrics import roc_auc_score,confusion_matrix,classification_report\n",
    "from sklearn.model_selection import learning_curve,StratifiedKFold\n"
   ]
  },
  {
   "cell_type": "code",
   "execution_count": 243,
   "metadata": {},
   "outputs": [],
   "source": [
    "#training and testing data split\n",
    "X_train, X_test, y_train, y_test = train_test_split(data, target, test_size=0.2, stratify=target,random_state=42)"
   ]
  },
  {
   "cell_type": "code",
   "execution_count": 244,
   "metadata": {
    "id": "pM2E2dC_Lz6A"
   },
   "outputs": [],
   "source": [
    "#training\n",
    "clf = LogisticRegression(random_state=0,penalty='l2').fit(X_train, y_train)"
   ]
  },
  {
   "cell_type": "code",
   "execution_count": 245,
   "metadata": {
    "id": "9qF8mKBNL0G2"
   },
   "outputs": [],
   "source": [
    "y_pred=clf.predict(X_test)"
   ]
  },
  {
   "cell_type": "code",
   "execution_count": 246,
   "metadata": {
    "id": "Nt9YsBrXL0Eg"
   },
   "outputs": [
    {
     "data": {
      "text/plain": [
       "array([[0.77267175, 0.22732825],\n",
       "       [0.73746433, 0.26253567],\n",
       "       [0.8122704 , 0.1877296 ],\n",
       "       ...,\n",
       "       [0.87422099, 0.12577901],\n",
       "       [0.64304708, 0.35695292],\n",
       "       [0.88708012, 0.11291988]])"
      ]
     },
     "execution_count": 246,
     "metadata": {},
     "output_type": "execute_result"
    }
   ],
   "source": [
    "clf.predict_proba(X_test)"
   ]
  },
  {
   "cell_type": "code",
   "execution_count": 247,
   "metadata": {
    "id": "d3f7iIwZL0CR"
   },
   "outputs": [
    {
     "data": {
      "text/plain": [
       "0.7637999361418403"
      ]
     },
     "execution_count": 247,
     "metadata": {},
     "output_type": "execute_result"
    }
   ],
   "source": [
    "#Accuracy on test split\n",
    "clf.score(X_test, y_test)"
   ]
  },
  {
   "cell_type": "code",
   "execution_count": 248,
   "metadata": {
    "id": "GtJ39Qppxx2s"
   },
   "outputs": [
    {
     "data": {
      "text/plain": [
       "0.7636250944964338"
      ]
     },
     "execution_count": 248,
     "metadata": {},
     "output_type": "execute_result"
    }
   ],
   "source": [
    "#Accracy on train split\n",
    "clf.score(X_train, y_train)"
   ]
  },
  {
   "cell_type": "code",
   "execution_count": 249,
   "metadata": {
    "id": "okFI_7PQLz_5"
   },
   "outputs": [
    {
     "name": "stdout",
     "output_type": "stream",
     "text": [
      "                 precision    recall  f1-score   support\n",
      "\n",
      "Loan_status_Yes       0.76      1.00      0.87     81321\n",
      " Loan_status_No       0.56      0.00      0.00     25165\n",
      "\n",
      "       accuracy                           0.76    106486\n",
      "      macro avg       0.66      0.50      0.44    106486\n",
      "   weighted avg       0.72      0.76      0.66    106486\n",
      "\n"
     ]
    }
   ],
   "source": [
    "target_names = ['Loan_status_Yes', 'Loan_status_No']\n",
    "print(classification_report(y_test, y_pred, target_names=target_names))"
   ]
  },
  {
   "cell_type": "code",
   "execution_count": 250,
   "metadata": {
    "id": "av_LuNT6Lz1H"
   },
   "outputs": [
    {
     "name": "stdout",
     "output_type": "stream",
     "text": [
      "ROC-AUC: 0.5009\n"
     ]
    }
   ],
   "source": [
    "print('ROC-AUC:',round(roc_auc_score(y_test,y_pred),4))"
   ]
  },
  {
   "cell_type": "markdown",
   "metadata": {},
   "source": [
    "Copying results into output.csv which contains member_id and predicted label_status"
   ]
  },
  {
   "cell_type": "code",
   "execution_count": 251,
   "metadata": {},
   "outputs": [],
   "source": [
    "df_output=pd.DataFrame()\n"
   ]
  },
  {
   "cell_type": "code",
   "execution_count": 252,
   "metadata": {},
   "outputs": [],
   "source": [
    "df_output['member_id']=test_original['member_id']\n"
   ]
  },
  {
   "cell_type": "code",
   "execution_count": 253,
   "metadata": {},
   "outputs": [],
   "source": [
    "output=clf.predict(test).astype(int)\n"
   ]
  },
  {
   "cell_type": "code",
   "execution_count": 260,
   "metadata": {},
   "outputs": [],
   "source": [
    "df_output['loan_status'] = np.vectorize(lambda s: 1 if s==1 else 0)(output)\n"
   ]
  },
  {
   "cell_type": "code",
   "execution_count": 263,
   "metadata": {},
   "outputs": [],
   "source": [
    "df_output[['member_id','loan_status']].to_csv('output.csv',index=False)"
   ]
  },
  {
   "cell_type": "markdown",
   "metadata": {
    "id": "g814CIZex8im"
   },
   "source": [
    "**RandomForest**"
   ]
  },
  {
   "cell_type": "code",
   "execution_count": 264,
   "metadata": {
    "id": "8XTZ05Q5cwjP"
   },
   "outputs": [],
   "source": [
    "from sklearn.preprocessing import StandardScaler\n",
    "from sklearn.ensemble import RandomForestClassifier\n",
    "\n",
    "#from xgboost import XGBClassifier\n",
    "#from lightgbm import LGBMClassifier"
   ]
  },
  {
   "cell_type": "code",
   "execution_count": null,
   "metadata": {
    "id": "GiQ9iaWt4AxM"
   },
   "outputs": [],
   "source": [
    "#X_train, X_test, y_train, y_test = train_test_split(data, target, test_size=0.2, stratify=target,random_state=42)"
   ]
  },
  {
   "cell_type": "code",
   "execution_count": 265,
   "metadata": {
    "id": "MAvOvVHP340g"
   },
   "outputs": [],
   "source": [
    "clf = RandomForestClassifier(n_estimators=500, max_depth=5,random_state=0,criterion='entropy',)"
   ]
  },
  {
   "cell_type": "code",
   "execution_count": 266,
   "metadata": {
    "id": "lcNukgBU38Fh"
   },
   "outputs": [
    {
     "data": {
      "text/plain": [
       "RandomForestClassifier(criterion='entropy', max_depth=5, n_estimators=500,\n",
       "                       random_state=0)"
      ]
     },
     "execution_count": 266,
     "metadata": {},
     "output_type": "execute_result"
    }
   ],
   "source": [
    "clf.fit(X_train, y_train)"
   ]
  },
  {
   "cell_type": "code",
   "execution_count": 267,
   "metadata": {
    "id": "_XZ3WBpH4Gxk"
   },
   "outputs": [],
   "source": [
    "y_pred=clf.predict(X_test)"
   ]
  },
  {
   "cell_type": "code",
   "execution_count": 268,
   "metadata": {
    "id": "_sa6Knl_6t6j"
   },
   "outputs": [
    {
     "data": {
      "text/plain": [
       "0.8088105478654471"
      ]
     },
     "execution_count": 268,
     "metadata": {},
     "output_type": "execute_result"
    }
   ],
   "source": [
    "clf.score(X_test, y_test)"
   ]
  },
  {
   "cell_type": "code",
   "execution_count": 269,
   "metadata": {
    "id": "Fy4b2dv_7dXM"
   },
   "outputs": [
    {
     "data": {
      "text/plain": [
       "0.8078752506209765"
      ]
     },
     "execution_count": 269,
     "metadata": {},
     "output_type": "execute_result"
    }
   ],
   "source": [
    "clf.score(X_train, y_train)"
   ]
  },
  {
   "cell_type": "code",
   "execution_count": 270,
   "metadata": {
    "id": "a2vasHIH7YPG"
   },
   "outputs": [
    {
     "data": {
      "text/plain": [
       "array([[0.75422271, 0.24577729],\n",
       "       [0.77066974, 0.22933026],\n",
       "       [0.84057069, 0.15942931],\n",
       "       ...,\n",
       "       [0.78147721, 0.21852279],\n",
       "       [0.8297866 , 0.1702134 ],\n",
       "       [0.82743802, 0.17256198]])"
      ]
     },
     "execution_count": 270,
     "metadata": {},
     "output_type": "execute_result"
    }
   ],
   "source": [
    "clf.predict_proba(X_test)"
   ]
  },
  {
   "cell_type": "code",
   "execution_count": 271,
   "metadata": {
    "id": "g49_7pjA65tM"
   },
   "outputs": [
    {
     "name": "stdout",
     "output_type": "stream",
     "text": [
      "                 precision    recall  f1-score   support\n",
      "\n",
      "Loan_status_Yes       0.80      0.99      0.89     81321\n",
      " Loan_status_No       0.87      0.22      0.36     25165\n",
      "\n",
      "       accuracy                           0.81    106486\n",
      "      macro avg       0.84      0.61      0.62    106486\n",
      "   weighted avg       0.82      0.81      0.76    106486\n",
      "\n"
     ]
    }
   ],
   "source": [
    "target_names = ['Loan_status_Yes', 'Loan_status_No']\n",
    "print(classification_report(y_test, y_pred, target_names=target_names))"
   ]
  },
  {
   "cell_type": "code",
   "execution_count": 272,
   "metadata": {
    "id": "BoYPEexE6-lI"
   },
   "outputs": [
    {
     "name": "stdout",
     "output_type": "stream",
     "text": [
      "ROC-AUC: 0.6066\n"
     ]
    }
   ],
   "source": [
    "print('ROC-AUC:',round(roc_auc_score(y_test,y_pred),4))"
   ]
  },
  {
   "cell_type": "code",
   "execution_count": 279,
   "metadata": {},
   "outputs": [
    {
     "data": {
      "text/plain": [
       "Text(33.0, 0.5, 'Predicted Label')"
      ]
     },
     "execution_count": 279,
     "metadata": {},
     "output_type": "execute_result"
    },
    {
     "data": {
      "image/png": "[encoded data removed]",
      "text/plain": [
       "<Figure size 432x288 with 2 Axes>"
      ]
     },
     "metadata": {
      "needs_background": "light"
     },
     "output_type": "display_data"
    }
   ],
   "source": [
    "# Confusion Matrix\n",
    "cm = confusion_matrix(y_test, y_pred).T\n",
    "cm = cm.astype('float')/cm.sum(axis=0)\n",
    "ax = sns.heatmap(cm, annot=True, cmap='Blues');\n",
    "ax.set_xlabel('True Label',size=12)\n",
    "ax.set_ylabel('Predicted Label',size=12)"
   ]
  },
  {
   "cell_type": "code",
   "execution_count": 277,
   "metadata": {},
   "outputs": [],
   "source": [
    "df_output1=pd.DataFrame()\n",
    "df_output1['member_id']=test_original['member_id']\n",
    "output1=clf.predict(test).astype(int)\n",
    "df_output1['loan_status'] = np.vectorize(lambda s: 1 if s==1 else 0)(output1)\n",
    "\n",
    "df_output1[['member_id','loan_status']].to_csv('output1.csv',index=False)"
   ]
  },
  {
   "cell_type": "code",
   "execution_count": null,
   "metadata": {},
   "outputs": [],
   "source": []
  },
  {
   "cell_type": "markdown",
   "metadata": {
    "id": "XidXKkmi4ah0"
   },
   "source": [
    "**DecisionTreeCLassifier**\n"
   ]
  },
  {
   "cell_type": "code",
   "execution_count": 280,
   "metadata": {
    "id": "1tnC9mnj4GuE"
   },
   "outputs": [],
   "source": [
    "from sklearn import tree"
   ]
  },
  {
   "cell_type": "code",
   "execution_count": 281,
   "metadata": {
    "id": "LHyIV-W-4xvr"
   },
   "outputs": [],
   "source": [
    "clf = tree.DecisionTreeClassifier()"
   ]
  },
  {
   "cell_type": "code",
   "execution_count": 282,
   "metadata": {
    "id": "REZ-krgZ4wAS"
   },
   "outputs": [
    {
     "data": {
      "text/plain": [
       "DecisionTreeClassifier()"
      ]
     },
     "execution_count": 282,
     "metadata": {},
     "output_type": "execute_result"
    }
   ],
   "source": [
    "clf.fit(X_train, y_train)"
   ]
  },
  {
   "cell_type": "code",
   "execution_count": 283,
   "metadata": {
    "id": "zf7CX4xQ4qKZ"
   },
   "outputs": [],
   "source": [
    "y_pred=clf.predict(X_test)"
   ]
  },
  {
   "cell_type": "code",
   "execution_count": 284,
   "metadata": {
    "id": "tHAC94v_5Ejx"
   },
   "outputs": [
    {
     "data": {
      "text/plain": [
       "array([[1., 0.],\n",
       "       [1., 0.],\n",
       "       [1., 0.],\n",
       "       ...,\n",
       "       [1., 0.],\n",
       "       [1., 0.],\n",
       "       [1., 0.]])"
      ]
     },
     "execution_count": 284,
     "metadata": {},
     "output_type": "execute_result"
    }
   ],
   "source": [
    "clf.predict_proba(X_test)"
   ]
  },
  {
   "cell_type": "code",
   "execution_count": 285,
   "metadata": {
    "id": "9JsklHTP4ohX"
   },
   "outputs": [
    {
     "data": {
      "text/plain": [
       "0.7134083353680296"
      ]
     },
     "execution_count": 285,
     "metadata": {},
     "output_type": "execute_result"
    }
   ],
   "source": [
    "clf.score(X_test, y_test)"
   ]
  },
  {
   "cell_type": "code",
   "execution_count": 286,
   "metadata": {
    "id": "aa9U1EKx4kko"
   },
   "outputs": [
    {
     "data": {
      "text/plain": [
       "1.0"
      ]
     },
     "execution_count": 286,
     "metadata": {},
     "output_type": "execute_result"
    }
   ],
   "source": [
    "clf.score(X_train, y_train)"
   ]
  },
  {
   "cell_type": "code",
   "execution_count": 287,
   "metadata": {
    "id": "551zmaa84iND"
   },
   "outputs": [
    {
     "name": "stdout",
     "output_type": "stream",
     "text": [
      "                 precision    recall  f1-score   support\n",
      "\n",
      "Loan_status_Yes       0.82      0.80      0.81     81321\n",
      " Loan_status_No       0.40      0.42      0.41     25165\n",
      "\n",
      "       accuracy                           0.71    106486\n",
      "      macro avg       0.61      0.61      0.61    106486\n",
      "   weighted avg       0.72      0.71      0.72    106486\n",
      "\n"
     ]
    }
   ],
   "source": [
    "target_names = ['Loan_status_Yes', 'Loan_status_No']\n",
    "print(classification_report(y_test, y_pred, target_names=target_names))"
   ]
  },
  {
   "cell_type": "code",
   "execution_count": 288,
   "metadata": {
    "id": "yvT265nG4Gko"
   },
   "outputs": [
    {
     "name": "stdout",
     "output_type": "stream",
     "text": [
      "ROC-AUC: 0.6134\n"
     ]
    }
   ],
   "source": [
    "print('ROC-AUC:',round(roc_auc_score(y_test,y_pred),4))"
   ]
  },
  {
   "cell_type": "code",
   "execution_count": 289,
   "metadata": {
    "id": "BD6iOVSo4Gg_"
   },
   "outputs": [
    {
     "data": {
      "text/plain": [
       "Text(33.0, 0.5, 'Predicted Label')"
      ]
     },
     "execution_count": 289,
     "metadata": {},
     "output_type": "execute_result"
    },
    {
     "data": {
      "image/png": "[encoded data removed]",
      "text/plain": [
       "<Figure size 432x288 with 2 Axes>"
      ]
     },
     "metadata": {
      "needs_background": "light"
     },
     "output_type": "display_data"
    }
   ],
   "source": [
    "# Confusion Matrix\n",
    "cm = confusion_matrix(y_test, y_pred).T\n",
    "cm = cm.astype('float')/cm.sum(axis=0)\n",
    "ax = sns.heatmap(cm, annot=True, cmap='Blues');\n",
    "ax.set_xlabel('True Label',size=12)\n",
    "ax.set_ylabel('Predicted Label',size=12)"
   ]
  },
  {
   "cell_type": "code",
   "execution_count": 290,
   "metadata": {},
   "outputs": [],
   "source": [
    "df_output2=pd.DataFrame()\n",
    "df_output2['member_id']=test_original['member_id']\n",
    "output2=clf.predict(test).astype(int)\n",
    "df_output2['loan_status'] = np.vectorize(lambda s: 1 if s==1 else 0)(output2)\n",
    "\n",
    "df_output2[['member_id','loan_status']].to_csv('output2.csv',index=False)"
   ]
  },
  {
   "cell_type": "markdown",
   "metadata": {
    "id": "MJ7lCniG5bAt"
   },
   "source": [
    "**MLP**"
   ]
  },
  {
   "cell_type": "code",
   "execution_count": 292,
   "metadata": {
    "id": "hO9m2ShW4GbW"
   },
   "outputs": [],
   "source": [
    "from sklearn.neural_network import MLPClassifier"
   ]
  },
  {
   "cell_type": "code",
   "execution_count": 293,
   "metadata": {
    "id": "yMhDsDum4GXx"
   },
   "outputs": [],
   "source": [
    "from sklearn.datasets import make_classification"
   ]
  },
  {
   "cell_type": "code",
   "execution_count": 294,
   "metadata": {
    "id": "KGJ_wsQg4GD9"
   },
   "outputs": [],
   "source": [
    "from sklearn.model_selection import train_test_split"
   ]
  },
  {
   "cell_type": "code",
   "execution_count": null,
   "metadata": {
    "id": "SRkNS85F4GBm"
   },
   "outputs": [],
   "source": [
    "#X_train, X_test, y_train, y_test = train_test_split(data, target, stratify=target,random_state=1)"
   ]
  },
  {
   "cell_type": "code",
   "execution_count": 295,
   "metadata": {
    "id": "J6QL3-WR4F-h"
   },
   "outputs": [],
   "source": [
    "clf = MLPClassifier(random_state=1, max_iter=300).fit(X_train, y_train)"
   ]
  },
  {
   "cell_type": "code",
   "execution_count": 296,
   "metadata": {
    "id": "EQwHvLXv4F7q"
   },
   "outputs": [],
   "source": [
    "#clf.predict(X_test)\n",
    "y_pred=clf.predict(X_test)"
   ]
  },
  {
   "cell_type": "code",
   "execution_count": 297,
   "metadata": {
    "id": "AJFtP2oJ4F4j"
   },
   "outputs": [
    {
     "data": {
      "text/plain": [
       "0.7792104126364029"
      ]
     },
     "execution_count": 297,
     "metadata": {},
     "output_type": "execute_result"
    }
   ],
   "source": [
    "clf.score(X_test, y_test)"
   ]
  },
  {
   "cell_type": "code",
   "execution_count": 298,
   "metadata": {
    "id": "t7FqSrV14F16"
   },
   "outputs": [
    {
     "data": {
      "text/plain": [
       "0.7797517032835456"
      ]
     },
     "execution_count": 298,
     "metadata": {},
     "output_type": "execute_result"
    }
   ],
   "source": [
    "clf.score(X_train, y_train)"
   ]
  },
  {
   "cell_type": "code",
   "execution_count": 299,
   "metadata": {
    "id": "1M01Zn656blE"
   },
   "outputs": [
    {
     "data": {
      "text/plain": [
       "array([[0.75073448, 0.24926552],\n",
       "       [0.78850931, 0.21149069],\n",
       "       [0.86875519, 0.13124481],\n",
       "       ...,\n",
       "       [0.81523923, 0.18476077],\n",
       "       [0.874514  , 0.125486  ],\n",
       "       [0.86789167, 0.13210833]])"
      ]
     },
     "execution_count": 299,
     "metadata": {},
     "output_type": "execute_result"
    }
   ],
   "source": [
    "clf.predict_proba(X_test)"
   ]
  },
  {
   "cell_type": "code",
   "execution_count": 300,
   "metadata": {
    "id": "I_czVkzx4Fzg"
   },
   "outputs": [
    {
     "name": "stdout",
     "output_type": "stream",
     "text": [
      "                 precision    recall  f1-score   support\n",
      "\n",
      "Loan_status_Yes       0.79      0.97      0.87     81321\n",
      " Loan_status_No       0.62      0.17      0.27     25165\n",
      "\n",
      "       accuracy                           0.78    106486\n",
      "      macro avg       0.71      0.57      0.57    106486\n",
      "   weighted avg       0.75      0.78      0.73    106486\n",
      "\n"
     ]
    }
   ],
   "source": [
    "target_names = ['Loan_status_Yes', 'Loan_status_No']\n",
    "print(classification_report(y_test, y_pred, target_names=target_names))"
   ]
  },
  {
   "cell_type": "code",
   "execution_count": 301,
   "metadata": {
    "id": "1NlCFwLg4FvR"
   },
   "outputs": [
    {
     "name": "stdout",
     "output_type": "stream",
     "text": [
      "ROC-AUC: 0.5685\n"
     ]
    }
   ],
   "source": [
    "print('ROC-AUC:',round(roc_auc_score(y_test,y_pred),4))"
   ]
  },
  {
   "cell_type": "code",
   "execution_count": 302,
   "metadata": {
    "id": "bWjQqMb64Frp"
   },
   "outputs": [
    {
     "data": {
      "text/plain": [
       "Text(33.0, 0.5, 'Predicted Label')"
      ]
     },
     "execution_count": 302,
     "metadata": {},
     "output_type": "execute_result"
    },
    {
     "data": {
      "image/png": "[encoded data removed]",
      "text/plain": [
       "<Figure size 432x288 with 2 Axes>"
      ]
     },
     "metadata": {
      "needs_background": "light"
     },
     "output_type": "display_data"
    }
   ],
   "source": [
    "# Confusion Matrix\n",
    "cm = confusion_matrix(y_test, y_pred).T\n",
    "cm = cm.astype('float')/cm.sum(axis=0)\n",
    "ax = sns.heatmap(cm, annot=True, cmap='Blues');\n",
    "ax.set_xlabel('True Label',size=12)\n",
    "ax.set_ylabel('Predicted Label',size=12)"
   ]
  },
  {
   "cell_type": "code",
   "execution_count": 303,
   "metadata": {},
   "outputs": [],
   "source": [
    "df_output3=pd.DataFrame()\n",
    "df_output3['member_id']=test_original['member_id']\n",
    "output3=clf.predict(test).astype(int)\n",
    "df_output3['loan_status'] = np.vectorize(lambda s: 1 if s==1 else 0)(output3)\n",
    "\n",
    "df_output3[['member_id','loan_status']].to_csv('output3.csv',index=False)"
   ]
  },
  {
   "cell_type": "code",
   "execution_count": null,
   "metadata": {},
   "outputs": [],
   "source": []
  }
 ],
 "metadata": {
  "accelerator": "GPU",
  "colab": {
   "collapsed_sections": [],
   "name": "Untitled2.ipynb",
   "provenance": []
  },
  "kernelspec": {
   "display_name": "Python 3",
   "language": "python",
   "name": "python3"
  },
  "language_info": {
   "codemirror_mode": {
    "name": "ipython",
    "version": 3
   },
   "file_extension": ".py",
   "mimetype": "text/x-python",
   "name": "python",
   "nbconvert_exporter": "python",
   "pygments_lexer": "ipython3",
   "version": "3.8.3"
  }
 },
 "nbformat": 4,
 "nbformat_minor": 1
}
